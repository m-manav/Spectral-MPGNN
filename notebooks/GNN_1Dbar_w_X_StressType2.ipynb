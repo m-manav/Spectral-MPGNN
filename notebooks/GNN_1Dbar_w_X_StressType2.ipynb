{
 "cells": [
  {
   "cell_type": "code",
   "execution_count": 1,
   "metadata": {},
   "outputs": [],
   "source": [
    "import torch\n",
    "import random\n",
    "import pandas as pd\n",
    "import torch_scatter\n",
    "import torch.nn as nn\n",
    "from torch.nn import Linear, Sequential, LayerNorm, ReLU\n",
    "import torch.optim as optim\n",
    "from torch_geometric.nn.conv import MessagePassing\n",
    "from torch_geometric.data import DataLoader\n",
    "from torch_geometric.data import Dataset, Data\n",
    "from torch_geometric.utils import get_laplacian\n",
    "\n",
    "import numpy as np\n",
    "import pickle\n",
    "import time\n",
    "from tqdm import trange\n",
    "import copy\n",
    "import os\n",
    "import matplotlib.pyplot as plt\n",
    "import scipy.io as sio"
   ]
  },
  {
   "cell_type": "code",
   "execution_count": 2,
   "metadata": {},
   "outputs": [],
   "source": [
    "#Define the list that will return the data graphs\n",
    "spt_data_list = []\n",
    "spc_data_list = []\n",
    "\n",
    "number_trajectories = 50\n",
    "number_ts = 11\n",
    "var_noise = 0.000\n",
    "num_eig = 3"
   ]
  },
  {
   "cell_type": "code",
   "execution_count": 4,
   "metadata": {},
   "outputs": [
    {
     "name": "stdout",
     "output_type": "stream",
     "text": [
      "Trajectory:  0\n",
      "Trajectory:  1\n",
      "Trajectory:  2\n",
      "Trajectory:  3\n",
      "Trajectory:  4\n",
      "Trajectory:  5\n",
      "Trajectory:  6\n",
      "Trajectory:  7\n",
      "Trajectory:  8\n",
      "Trajectory:  9\n",
      "Trajectory:  10\n",
      "Trajectory:  11\n",
      "Trajectory:  12\n",
      "Trajectory:  13\n",
      "Trajectory:  14\n",
      "Trajectory:  15\n",
      "Trajectory:  16\n",
      "Trajectory:  17\n",
      "Trajectory:  18\n",
      "Trajectory:  19\n",
      "Trajectory:  20\n",
      "Trajectory:  21\n",
      "Trajectory:  22\n",
      "Trajectory:  23\n",
      "Trajectory:  24\n",
      "Trajectory:  25\n",
      "Trajectory:  26\n",
      "Trajectory:  27\n",
      "Trajectory:  28\n",
      "Trajectory:  29\n",
      "Trajectory:  30\n",
      "Trajectory:  31\n",
      "Trajectory:  32\n",
      "Trajectory:  33\n",
      "Trajectory:  34\n",
      "Trajectory:  35\n",
      "Trajectory:  36\n",
      "Trajectory:  37\n",
      "Trajectory:  38\n",
      "Trajectory:  39\n",
      "Trajectory:  40\n",
      "Trajectory:  41\n",
      "Trajectory:  42\n",
      "Trajectory:  43\n",
      "Trajectory:  44\n",
      "Trajectory:  45\n",
      "Trajectory:  46\n",
      "Trajectory:  47\n",
      "Trajectory:  48\n",
      "Trajectory:  49\n",
      "data_list length:  2\n",
      "Done collecting data!\n",
      "Done saving data!\n"
     ]
    }
   ],
   "source": [
    "with open(\"data_train2.pkl\",'rb') as file:\n",
    "    data = pickle.load(file)\n",
    "\n",
    "    for i, trajectory in enumerate(data.keys()):\n",
    "        if(i==number_trajectories):\n",
    "            break\n",
    "        print(\"Trajectory: \",i)\n",
    "\n",
    "        #We iterate over all the time steps to produce an example graph except\n",
    "        #for the last one, which does not have a following time step to produce\n",
    "        #node output values\n",
    "        for ts in range(len(data[trajectory]['current_node_pos'])-1):\n",
    "\n",
    "            if(ts==number_ts):\n",
    "                break\n",
    "\n",
    "            #Get node features\n",
    "            ref_node_pos = torch.from_numpy(data[trajectory]['ref_node_pos'][ts])\n",
    "            current_node_pos = torch.from_numpy(data[trajectory]['current_node_pos'][ts])\n",
    "            del_ext_force = torch.from_numpy(data[trajectory][\"del_ext_force\"][ts])\n",
    "            node_type_idx = data[trajectory]['node_types'][ts]\n",
    "            # convert to one hot tensor form\n",
    "            node_type = torch.zeros(node_type_idx.shape[0], np.unique(node_type_idx).shape[0])\n",
    "            for j in range(node_type_idx.shape[0]):\n",
    "                node_type[j, node_type_idx[j, 0]] = 1\n",
    "            \n",
    "            stress = torch.from_numpy(data[trajectory]['stress'][ts])\n",
    "            stress = stress + (var_noise**0.5)*torch.randn(stress.shape)\n",
    "            # x = torch.cat((ref_node_pos, current_node_pos, del_ext_force, node_type), dim=-1).type(torch.float)\n",
    "            x = torch.cat((stress, node_type), dim=-1).type(torch.float)\n",
    "            # x = node_type.type(torch.float)\n",
    "            n_nodes = torch.tensor([[x.shape[0]]])\n",
    "\n",
    "            edge_index = torch.from_numpy(data[trajectory]['edge_index'][ts]).type(torch.long)\n",
    "\n",
    "            #Get edge features (mesh space as well as current configuration)\n",
    "            uR_i = torch.from_numpy(data[trajectory]['ref_node_pos'][ts])[edge_index[0]]\n",
    "            uR_j = torch.from_numpy(data[trajectory]['ref_node_pos'][ts])[edge_index[1]]\n",
    "            uR_ij = uR_i-uR_j\n",
    "            uR_ij = uR_ij + (var_noise**0.5)*torch.randn(uR_ij.shape)\n",
    "            uR_ij_norm = torch.norm(uR_ij, p=2, dim=1, keepdim=True)\n",
    "            uC_i = torch.from_numpy(data[trajectory]['current_node_pos'][ts])[edge_index[0]]\n",
    "            uC_j = torch.from_numpy(data[trajectory]['current_node_pos'][ts])[edge_index[1]]\n",
    "            uC_ij = uC_i-uC_j\n",
    "            uC_ij = uC_ij + (var_noise**0.5)*torch.randn(uC_ij.shape)\n",
    "            uC_ij_norm = torch.norm(uC_ij, p=2, dim=1, keepdim=True)\n",
    "\n",
    "            edge_attr = torch.cat((uR_ij, uR_ij_norm), dim=-1).type(torch.float)  #, uC_ij, uC_ij_norm\n",
    "\n",
    "            del_ext_force = del_ext_force #+ (var_noise**0.5)*torch.randn(del_ext_force.shape)\n",
    "            del_ext_force = del_ext_force.type(torch.float)\n",
    "\n",
    "            #Node outputs, for training\n",
    "            del_displacement = torch.from_numpy(data[trajectory]['current_node_pos'][ts+1]-data[trajectory]['current_node_pos'][ts])\n",
    "            # y = del_displacement.type(torch.float)\n",
    "            stress_next = torch.from_numpy(data[trajectory]['stress'][ts+1])\n",
    "            y = torch.cat((del_displacement, stress_next), dim=-1).type(torch.float)\n",
    "\n",
    "            #Node outputs, for testing\n",
    "            strain_energy = torch.from_numpy(data[trajectory]['strain_energy'][ts])\n",
    "\n",
    "            #Data needed for visualization code\n",
    "            current_node_pos = torch.from_numpy(data[trajectory]['current_node_pos'][ts])\n",
    "\n",
    "            # spectral graph information\n",
    "            ed_idx, ed_w = get_laplacian(edge_index)\n",
    "            lap = torch.sparse_coo_tensor(ed_idx, ed_w, (x.shape[0], x.shape[0]))\n",
    "            lap = lap.to_dense()\n",
    "            E, V = torch.linalg.eigh(lap)\n",
    "            idx_st = 0\n",
    "            E = E[idx_st:idx_st+num_eig]\n",
    "            V = V[:, idx_st:idx_st+num_eig]\n",
    "            V = V/torch.sqrt(torch.sum(V**2, axis=0))\n",
    "\n",
    "            spx = E.reshape(-1, 1)\n",
    "            sp_edge_index_init = torch.ones(num_eig, num_eig) - torch.eye(num_eig)\n",
    "            sp_edge_index_init = sp_edge_index_init.to_sparse()\n",
    "            sp_edge_index = sp_edge_index_init.indices()\n",
    "            sp_edge_attr = torch.ones((sp_edge_index.shape[1], 1), dtype = torch.float)\n",
    "\n",
    "            spt_data_list.append(Data(x = x, edge_index = edge_index, edge_attr = edge_attr, del_ext_force = del_ext_force, y = y,\n",
    "                                  stress = stress, strain_energy = strain_energy, current_node_pos = current_node_pos))\n",
    "\n",
    "            spc_data_list.append(Data(x = spx, edge_index = sp_edge_index, edge_attr = sp_edge_attr, V = V, n_nodes = n_nodes))\n",
    "\n",
    "    \n",
    "\n",
    "data_list = {\"spt_data_list\": spt_data_list, \n",
    "                \"spc_data_list\": spc_data_list}\n",
    "\n",
    "print(\"data_list length: \", len(data_list))\n",
    "print(\"Done collecting data!\")\n",
    "\n",
    "torch.save(data_list, 'processed_train_set.pt')\n",
    "print(\"Done saving data!\")\n",
    "\n",
    "#os.path.join(data_folder + '/test.h5')\n",
    "#torch.save(data_list,'./'+dataset_dir+'/test_processed_set.pt')\n",
    "\n",
    "# print(\"Output Location: \", dataset_dir+'/test_processed_set.pt')"
   ]
  },
  {
   "cell_type": "code",
   "execution_count": 4,
   "metadata": {},
   "outputs": [
    {
     "data": {
      "text/plain": [
       "tensor([[0, 0, 1, 1, 2, 2],\n",
       "        [1, 2, 0, 2, 0, 1]])"
      ]
     },
     "execution_count": 4,
     "metadata": {},
     "output_type": "execute_result"
    }
   ],
   "source": [
    "sp_edge_index"
   ]
  },
  {
   "cell_type": "code",
   "execution_count": 5,
   "metadata": {},
   "outputs": [],
   "source": [
    "dataset = torch.load('processed_train_set.pt')\n",
    "spt_dataset = dataset[\"spt_data_list\"][:512]\n",
    "spc_dataset = dataset[\"spc_data_list\"][:512]"
   ]
  },
  {
   "cell_type": "code",
   "execution_count": 6,
   "metadata": {},
   "outputs": [
    {
     "data": {
      "text/plain": [
       "tensor([[0., 1., 0., 0.],\n",
       "        [0., 0., 1., 0.],\n",
       "        [0., 0., 1., 0.],\n",
       "        [0., 0., 1., 0.],\n",
       "        [0., 0., 1., 0.],\n",
       "        [0., 0., 1., 0.],\n",
       "        [0., 0., 0., 1.]])"
      ]
     },
     "execution_count": 6,
     "metadata": {},
     "output_type": "execute_result"
    }
   ],
   "source": [
    "spt_dataset[0].x #.shape[1:]"
   ]
  },
  {
   "cell_type": "code",
   "execution_count": 7,
   "metadata": {},
   "outputs": [],
   "source": [
    "# normalization in order to stabilize training\n",
    "def normalize(to_normalize,mean_vec,std_vec):\n",
    "    return (to_normalize-mean_vec)/std_vec\n",
    "\n",
    "def unnormalize(to_unnormalize,mean_vec,std_vec):\n",
    "    return to_unnormalize*std_vec+mean_vec\n",
    "\n",
    "def get_stats(data_list):\n",
    "    '''\n",
    "    Method for normalizing processed datasets. Given  the processed data_list, \n",
    "    calculates the mean and standard deviation for the node features, edge features, \n",
    "    and node outputs, and normalizes these using the calculated statistics.\n",
    "    '''\n",
    "\n",
    "    #mean and std of the node features are calculated\n",
    "    mean_vec_x=torch.zeros(data_list[0].x.shape[1:])\n",
    "    std_vec_x=torch.zeros(data_list[0].x.shape[1:])\n",
    "\n",
    "    #mean and std of the edge features are calculated\n",
    "    mean_vec_edge=torch.zeros(data_list[0].edge_attr.shape[1:])\n",
    "    std_vec_edge=torch.zeros(data_list[0].edge_attr.shape[1:])\n",
    "\n",
    "    #mean and std of the incremental external force are calculated\n",
    "    mean_vec_force = torch.zeros(data_list[0].del_ext_force.shape[1:])\n",
    "    std_vec_force = torch.zeros(data_list[0].del_ext_force.shape[1:])\n",
    "\n",
    "    #mean and std of the output parameters are calculated\n",
    "    mean_vec_y=torch.zeros(data_list[0].y.shape[1:])\n",
    "    std_vec_y=torch.zeros(data_list[0].y.shape[1:])\n",
    "\n",
    "    #Define the maximum number of accumulations to perform such that we do\n",
    "    #not encounter memory issues\n",
    "    max_accumulations = 10**6\n",
    "\n",
    "    #Define a very small value for normalizing to \n",
    "    eps=torch.tensor(np.finfo(float).eps)\n",
    "\n",
    "    #Define counters used in normalization\n",
    "    num_accs_x = 0\n",
    "    num_accs_edge=0\n",
    "    num_accs_force=0\n",
    "    num_accs_y=0\n",
    "\n",
    "    #Iterate through the data in the list to accumulate statistics\n",
    "    for dp in data_list:\n",
    "\n",
    "        #Add to the \n",
    "        mean_vec_x+=torch.sum(dp.x,dim=0)\n",
    "        std_vec_x+=torch.sum(dp.x**2,dim=0)\n",
    "        num_accs_x+=dp.x.shape[0]\n",
    "\n",
    "        mean_vec_edge+=torch.sum(dp.edge_attr,dim=0)\n",
    "        std_vec_edge+=torch.sum(dp.edge_attr**2,dim=0)\n",
    "        num_accs_edge+=dp.edge_attr.shape[0]\n",
    "\n",
    "        mean_vec_force+=torch.sum(dp.del_ext_force,dim=0)\n",
    "        std_vec_force+=torch.sum(dp.del_ext_force**2,dim=0)\n",
    "        num_accs_force+=dp.del_ext_force.shape[0]\n",
    "\n",
    "        mean_vec_y+=torch.sum(dp.y,dim=0)\n",
    "        std_vec_y+=torch.sum(dp.y**2,dim=0)\n",
    "        num_accs_y+=dp.y.shape[0]\n",
    "\n",
    "        if(num_accs_x>max_accumulations or num_accs_edge>max_accumulations or num_accs_force>max_accumulations or num_accs_y>max_accumulations):\n",
    "            break\n",
    "\n",
    "    mean_vec_x = mean_vec_x/num_accs_x\n",
    "    std_vec_x = torch.maximum(torch.sqrt(std_vec_x/num_accs_x - mean_vec_x**2),eps)\n",
    "\n",
    "    mean_vec_edge = mean_vec_edge/num_accs_edge\n",
    "    std_vec_edge = torch.maximum(torch.sqrt(std_vec_edge/num_accs_edge - mean_vec_edge**2),eps)\n",
    "\n",
    "    mean_vec_force = mean_vec_force/num_accs_force\n",
    "    std_vec_force = torch.maximum(torch.sqrt(std_vec_force/num_accs_force - mean_vec_force**2),eps)\n",
    "\n",
    "    mean_vec_y = mean_vec_y/num_accs_y\n",
    "    std_vec_y = torch.maximum(torch.sqrt(std_vec_y/num_accs_y - mean_vec_y**2),eps)\n",
    "\n",
    "    mean_std_list=[mean_vec_x,std_vec_x,mean_vec_edge,std_vec_edge,mean_vec_force,std_vec_force,mean_vec_y,std_vec_y]\n",
    "\n",
    "    return mean_std_list"
   ]
  },
  {
   "cell_type": "code",
   "execution_count": 8,
   "metadata": {},
   "outputs": [],
   "source": [
    "class MeshGraphNet(torch.nn.Module):\n",
    "    def __init__(self, input_dim_node, input_dim_edge, sp_input_dim_node, sp_input_dim_edge, \n",
    "                    hidden_dim, dim_ext_force, output_dim, args, emb=False):\n",
    "        super(MeshGraphNet, self).__init__()\n",
    "        \"\"\"\n",
    "        MeshGraphNet model. This model is built upon Deepmind's 2021 paper.\n",
    "        This model consists of three parts: (1) Preprocessing: encoder (2) Processor\n",
    "        (3) postproccessing: decoder. Encoder has an edge and node decoders respectively.\n",
    "        Processor has two processors for edge and node respectively. Note that edge attributes have to be\n",
    "        updated first. Decoder is only for nodes.\n",
    "\n",
    "        Input_dim: dynamic variables + node_type + node_position\n",
    "        Hidden_dim: 128 in deepmind's paper\n",
    "        Output_dim: dynamic variables: velocity changes (1)\n",
    "\n",
    "        \"\"\"\n",
    "\n",
    "        self.num_layers = args.num_layers\n",
    "\n",
    "        # encoder convert raw inputs into latent embeddings\n",
    "        self.node_encoder = Sequential(Linear(input_dim_node , hidden_dim),\n",
    "                              ReLU(),\n",
    "                              Linear( hidden_dim, hidden_dim),\n",
    "                              LayerNorm(hidden_dim))\n",
    "\n",
    "        self.edge_encoder = Sequential(Linear(input_dim_edge , hidden_dim),\n",
    "                              ReLU(),\n",
    "                              Linear( hidden_dim, hidden_dim),\n",
    "                              LayerNorm(hidden_dim)\n",
    "                              )\n",
    "\n",
    "        self.spnode_encoder = Sequential(Linear(sp_input_dim_node , hidden_dim),\n",
    "                              ReLU(),\n",
    "                              Linear( hidden_dim, hidden_dim),\n",
    "                              LayerNorm(hidden_dim))\n",
    "\n",
    "        self.spedge_encoder = Sequential(Linear(sp_input_dim_edge , hidden_dim),\n",
    "                              ReLU(),\n",
    "                              Linear( hidden_dim, hidden_dim),\n",
    "                              LayerNorm(hidden_dim)\n",
    "                              )                 \n",
    "\n",
    "\n",
    "        self.processor = nn.ModuleList()\n",
    "        self.sp_processor = nn.ModuleList()\n",
    "        assert (self.num_layers >= 1), 'Number of message passing layers is not >=1'\n",
    "\n",
    "        processor_layer=self.build_processor_model()\n",
    "        for _ in range(self.num_layers):\n",
    "            self.processor.append(processor_layer(hidden_dim, dim_ext_force, hidden_dim))\n",
    "            self.sp_processor.append(processor_layer(hidden_dim, 0, hidden_dim))\n",
    "\n",
    "\n",
    "        # decoder: only for node embeddings\n",
    "        self.decoder = Sequential(Linear( 2*hidden_dim , hidden_dim),\n",
    "                              ReLU(),\n",
    "                              Linear( hidden_dim, output_dim)\n",
    "                              )\n",
    "\n",
    "\n",
    "    def build_processor_model(self):\n",
    "        return ProcessorLayer\n",
    "\n",
    "\n",
    "    def eigenpooling(self, V, x, idx_lim_Gnodes):\n",
    "        spx_pooled = torch.empty((0, x.shape[1]))\n",
    "\n",
    "        for ii in range(idx_lim_Gnodes.shape[0]):\n",
    "            idx1 = idx_lim_Gnodes[ii, 0]\n",
    "            idx2 = idx_lim_Gnodes[ii, 1]\n",
    "            spx_pooled_part = torch.matmul(torch.t(V[idx1:idx2, :]),x[idx1:idx2, :])\n",
    "            spx_pooled = torch.cat((spx_pooled, spx_pooled_part), dim = 0)\n",
    "        \n",
    "        return spx_pooled\n",
    "\n",
    "\n",
    "    def eigenbroadcasting(self, V, spx, idx_lim_Gnodes):\n",
    "        x_broadcasted = torch.empty((0, spx.shape[1]))\n",
    "        n_eigmodes  = V.shape[1]\n",
    "\n",
    "        for ii in range(idx_lim_Gnodes.shape[0]):\n",
    "            idx1 = idx_lim_Gnodes[ii, 0]\n",
    "            idx2 = idx_lim_Gnodes[ii, 1]\n",
    "            x_broadcasted_part = torch.matmul(V[idx1:idx2, :],spx[n_eigmodes*ii:n_eigmodes*(ii+1), :])\n",
    "            x_broadcasted = torch.cat((x_broadcasted, x_broadcasted_part), dim = 0)\n",
    "        \n",
    "        return x_broadcasted\n",
    "\n",
    "\n",
    "    def forward(self,spt_data,spc_data,mean_vec_x,std_vec_x,mean_vec_edge,std_vec_edge,mean_vec_force,std_vec_force):\n",
    "        \"\"\"\n",
    "        Encoder encodes graph (node/edge features) into latent vectors (node/edge embeddings)\n",
    "        The return of processor is fed into the processor for generating new feature vectors\n",
    "        \"\"\"\n",
    "        x, edge_index, edge_attr, del_ext_force, stress = spt_data.x, spt_data.edge_index, spt_data.edge_attr, spt_data.del_ext_force, spt_data.stress\n",
    "\n",
    "        spx, sp_edge_index,  sp_edge_attr, V, n_nodes = spc_data.x, spc_data.edge_index, spc_data.edge_attr, spc_data.V, spc_data.n_nodes\n",
    "\n",
    "        # print('n_nodes: ',n_nodes)\n",
    "        # print('x.shape: ', x.shape)\n",
    "        # print('edge_index.shape: ', edge_index)\n",
    "        # print('edge_attr.shape: ', edge_attr)\n",
    "        # print('spx.shape: ', spx.shape)\n",
    "        # print('sp_edge_index.shape: ', sp_edge_index)\n",
    "        # print('sp_edge_attr.shape: ', sp_edge_attr)\n",
    "\n",
    "        n_nodes_cumsum = torch.cumsum(n_nodes.reshape(-1, ), dim=0)\n",
    "        idx_lim_Gnodes = torch.zeros((n_nodes.shape[0], 2), dtype = torch.int64)\n",
    "        idx_lim_Gnodes[1:, 0] = n_nodes_cumsum[:-1]\n",
    "        idx_lim_Gnodes[:, 1] = n_nodes_cumsum\n",
    "        # print('idx_lim_Gnodes: ', idx_lim_Gnodes)\n",
    "\n",
    "        x = normalize(x,mean_vec_x,std_vec_x)\n",
    "        edge_attr=normalize(edge_attr,mean_vec_edge,std_vec_edge)\n",
    "        del_ext_force = normalize(del_ext_force,mean_vec_force,std_vec_force)\n",
    "\n",
    "        # Step 1: encode node/edge features into latent node/edge embeddings\n",
    "        x = self.node_encoder(x) # output shape is the specified hidden dimension\n",
    "        edge_attr = self.edge_encoder(edge_attr) # output shape is the specified hidden dimension\n",
    "\n",
    "        spx = self.spnode_encoder(spx)\n",
    "        sp_edge_attr = self.spedge_encoder(sp_edge_attr)\n",
    "\n",
    "        x_new = torch.cat((x, self.eigenbroadcasting(V, spx, idx_lim_Gnodes)), dim = 1)\n",
    "        spx = torch.cat((spx, self.eigenpooling(V, x, idx_lim_Gnodes)), dim = 1)\n",
    "        x = x_new\n",
    "\n",
    "        # step 2: perform message passing with latent node/edge embeddings\n",
    "        for i in range(self.num_layers):\n",
    "            x_i, edge_attr = self.processor[i](x,edge_index,edge_attr,del_ext_force)\n",
    "            spx_i, sp_edge_attr = self.sp_processor[i](spx,sp_edge_index,sp_edge_attr,del_ext_force = None)\n",
    "\n",
    "            x = x[:, 0:x_i.shape[1]]\n",
    "            spx = spx[:, 0:x_i.shape[1]]\n",
    "            x_new = torch.cat((x_i, self.eigenbroadcasting(V, spx, idx_lim_Gnodes)), dim = 1)\n",
    "            spx = torch.cat((spx_i, self.eigenpooling(V, x, idx_lim_Gnodes)), dim = 1)\n",
    "            x = x_new\n",
    "            # print('x.shape: ', x.shape)\n",
    "            # print('spx.shape: ', spx.shape)\n",
    "\n",
    "        # step 3: decode latent node embeddings into physical quantities of interest\n",
    "\n",
    "        return self.decoder(x)\n",
    "\n",
    "    def loss(self, pred, inputs, mean_vec_y, std_vec_y):\n",
    "        #Define the node types that we calculate loss for\n",
    "        normal=torch.tensor(0)\n",
    "        outflow=torch.tensor(5)\n",
    "\n",
    "        #Get the loss mask for the nodes of the types we calculate loss for\n",
    "        loss_mask=torch.logical_or((torch.argmax(inputs.x[:,1:],dim=1)==torch.tensor(1)),\n",
    "                                   (torch.argmax(inputs.x[:,1:],dim=1)==torch.tensor(2)))\n",
    "        # print('loss_mask', loss_mask)\n",
    "\n",
    "        #Normalize labels with dataset statistics\n",
    "        labels = normalize(inputs.y, mean_vec_y, std_vec_y)\n",
    "\n",
    "        #Find sum of square errors\n",
    "        error=torch.sum((labels-pred)**2,axis=1)\n",
    "\n",
    "        #Root and mean the errors for the nodes we calculate loss for\n",
    "        loss= torch.sqrt(torch.mean(error))            #torch.sqrt(torch.mean(error[loss_mask]))\n",
    "        \n",
    "        return loss"
   ]
  },
  {
   "cell_type": "code",
   "execution_count": 9,
   "metadata": {},
   "outputs": [],
   "source": [
    "class ProcessorLayer(MessagePassing):\n",
    "    def __init__(self, in_channels, dim_ext_force, out_channels,  **kwargs):\n",
    "        super(ProcessorLayer, self).__init__(  **kwargs )\n",
    "        \"\"\"\n",
    "        in_channels: dim of node embeddings [128], out_channels: dim of edge embeddings [128]\n",
    "\n",
    "        \"\"\"\n",
    "\n",
    "        # Note that the node and edge encoders both have the same hidden dimension\n",
    "        # size. This means that the input of the edge processor will always be\n",
    "        # three times the specified hidden dimension\n",
    "        # (input: adjacent node embeddings and self embeddings)\n",
    "        self.edge_mlp = Sequential(Linear( 5* in_channels , out_channels),\n",
    "                                   ReLU(),\n",
    "                                   Linear( out_channels, out_channels),\n",
    "                                   LayerNorm(out_channels))\n",
    "\n",
    "        self.node_mlp = Sequential(Linear( 3* in_channels + dim_ext_force , out_channels),\n",
    "                                   ReLU(),\n",
    "                                   Linear( out_channels, out_channels),\n",
    "                                   LayerNorm(out_channels))\n",
    "\n",
    "\n",
    "        self.reset_parameters()\n",
    "\n",
    "    def reset_parameters(self):\n",
    "        \"\"\"\n",
    "        reset parameters for stacked MLP layers\n",
    "        \"\"\"\n",
    "        self.edge_mlp[0].reset_parameters()\n",
    "        self.edge_mlp[2].reset_parameters()\n",
    "\n",
    "        self.node_mlp[0].reset_parameters()\n",
    "        self.node_mlp[2].reset_parameters()\n",
    "\n",
    "    def forward(self, x, edge_index, edge_attr, del_ext_force, size = None):\n",
    "        \"\"\"\n",
    "        Handle the pre and post-processing of node features/embeddings,\n",
    "        as well as initiates message passing by calling the propagate function.\n",
    "\n",
    "        Note that message passing and aggregation are handled by the propagate\n",
    "        function, and the update\n",
    "\n",
    "        x has shpae [node_num , in_channels] (node embeddings)\n",
    "        edge_index: [2, edge_num]\n",
    "        edge_attr: [E, in_channels]\n",
    "\n",
    "        \"\"\"\n",
    "\n",
    "        out, updated_edges = self.propagate(edge_index, x = x, edge_attr = edge_attr, size = size) # out has the shape of [E, out_channels]\n",
    "\n",
    "        if del_ext_force == None:\n",
    "            updated_nodes = torch.cat([x,out],dim=1)\n",
    "        else:\n",
    "            updated_nodes = torch.cat([x,out,del_ext_force],dim=1)        # Complete the aggregation through self-aggregation\n",
    "\n",
    "        updated_nodes = self.node_mlp(updated_nodes) # residual connection\n",
    "        updated_nodes = x[:, 0:updated_nodes.shape[1]] + updated_nodes # residual connection\n",
    "\n",
    "        return updated_nodes, updated_edges\n",
    "\n",
    "    def message(self, x_i, x_j, edge_attr):\n",
    "        \"\"\"\n",
    "        source_node: x_i has the shape of [E, in_channels]\n",
    "        target_node: x_j has the shape of [E, in_channels]\n",
    "        target_edge: edge_attr has the shape of [E, out_channels]\n",
    "\n",
    "        The messages that are passed are the raw embeddings. These are not processed.\n",
    "        \"\"\"\n",
    "\n",
    "        updated_edges=torch.cat([x_i, x_j, edge_attr], dim = 1) # tmp_emb has the shape of [E, 3 * in_channels]\n",
    "        updated_edges=self.edge_mlp(updated_edges)+edge_attr\n",
    "\n",
    "        return updated_edges\n",
    "\n",
    "    def aggregate(self, updated_edges, edge_index, dim_size = None):\n",
    "        \"\"\"\n",
    "        First we aggregate from neighbors (i.e., adjacent nodes) through concatenation,\n",
    "        then we aggregate self message (from the edge itself). This is streamlined\n",
    "        into one operation here.\n",
    "        \"\"\"\n",
    "\n",
    "        # The axis along which to index number of nodes.\n",
    "        node_dim = 0\n",
    "\n",
    "        out = torch_scatter.scatter(updated_edges, edge_index[0, :], dim=node_dim, reduce = 'sum')\n",
    "\n",
    "        return out, updated_edges"
   ]
  },
  {
   "cell_type": "code",
   "execution_count": 10,
   "metadata": {},
   "outputs": [],
   "source": [
    "def build_optimizer(args, params):\n",
    "    weight_decay = args.weight_decay\n",
    "    filter_fn = filter(lambda p : p.requires_grad, params)\n",
    "    if args.opt == 'adam':\n",
    "        optimizer = optim.Adam(filter_fn, lr=args.lr, weight_decay=weight_decay)\n",
    "    elif args.opt == 'sgd':\n",
    "        optimizer = optim.SGD(filter_fn, lr=args.lr, momentum=0.95, weight_decay=weight_decay)\n",
    "    elif args.opt == 'rmsprop':\n",
    "        optimizer = optim.RMSprop(filter_fn, lr=args.lr, weight_decay=weight_decay)\n",
    "    elif args.opt == 'adagrad':\n",
    "        optimizer = optim.Adagrad(filter_fn, lr=args.lr, weight_decay=weight_decay)\n",
    "    if args.opt_scheduler == 'none':\n",
    "        return None, optimizer\n",
    "    elif args.opt_scheduler == 'step':\n",
    "        scheduler = optim.lr_scheduler.StepLR(optimizer, step_size=args.opt_decay_step, gamma=args.opt_decay_rate)\n",
    "    elif args.opt_scheduler == 'cos':\n",
    "        scheduler = optim.lr_scheduler.CosineAnnealingLR(optimizer, T_max=args.opt_restart)\n",
    "    return scheduler, optimizer"
   ]
  },
  {
   "cell_type": "code",
   "execution_count": 11,
   "metadata": {},
   "outputs": [],
   "source": [
    "def train(spt_dataset, spc_dataset, device, stats_list, args):\n",
    "    '''\n",
    "    Performs a training loop on the dataset for MeshGraphNets. Also calls\n",
    "    test and validation functions.\n",
    "    '''\n",
    "\n",
    "    df = pd.DataFrame(columns=['epoch','train_loss','test_loss', 'velo_val_loss'])\n",
    "\n",
    "    #Define the model name for saving \n",
    "    model_name='model_spectralGNN_w_X_StressType_nl'+str(args.num_layers)+'_bs'+str(args.batch_size) + \\\n",
    "               '_hd'+str(args.hidden_dim)+'_ep'+str(args.epochs)+'_wd'+str(args.weight_decay) + \\\n",
    "               '_lr'+str(args.lr)+'_shuff_'+str(args.shuffle)+'_tr'+str(args.train_size)+'_te'+str(args.test_size)\n",
    "\n",
    "    #torch_geometric DataLoaders are used for handling the data of lists of graphs\n",
    "    spt_loader = DataLoader(spt_dataset[:args.train_size], batch_size=args.batch_size, shuffle=False)\n",
    "    spt_test_loader = DataLoader(spt_dataset[args.train_size:], batch_size=args.batch_size, shuffle=False)\n",
    "    spc_loader = DataLoader(spc_dataset[:args.train_size], batch_size=args.batch_size, shuffle=False)\n",
    "    spc_test_loader = DataLoader(spc_dataset[args.train_size:], batch_size=args.batch_size, shuffle=False)\n",
    "\n",
    "    #The statistics of the data are decomposed\n",
    "    [mean_vec_x,std_vec_x,mean_vec_edge,std_vec_edge,mean_vec_force,std_vec_force,mean_vec_y,std_vec_y] = stats_list\n",
    "    (mean_vec_x,std_vec_x,mean_vec_edge,std_vec_edge,mean_vec_force,std_vec_force,mean_vec_y,std_vec_y)=(mean_vec_x.to(device),\n",
    "        std_vec_x.to(device),mean_vec_edge.to(device),std_vec_edge.to(device),mean_vec_force.to(device),std_vec_force.to(device),\n",
    "        mean_vec_y.to(device),std_vec_y.to(device))\n",
    "\n",
    "    # build model\n",
    "    num_node_features = spt_dataset[0].x.shape[1]\n",
    "    num_edge_features = spt_dataset[0].edge_attr.shape[1]\n",
    "    num_ext_force = spt_dataset[0].del_ext_force.shape[1]\n",
    "    num_sp_node_features = spc_dataset[0].x.shape[1]\n",
    "    num_sp_edge_features = spc_dataset[0].edge_attr.shape[1]\n",
    "    num_classes = 1 # the dynamic variables have the shape of 1 (displacement)\n",
    "\n",
    "\n",
    "    model = MeshGraphNet(num_node_features, num_edge_features, num_sp_node_features, num_sp_edge_features, \n",
    "                            args.hidden_dim, num_ext_force, num_classes, args).to(device)\n",
    "    scheduler, opt = build_optimizer(args, model.parameters())\n",
    "\n",
    "    # train\n",
    "    losses = []\n",
    "    test_losses = []\n",
    "    disp_val_losses = []\n",
    "    best_test_loss = np.inf\n",
    "    best_model = None\n",
    "    for epoch in trange(args.epochs, desc=\"Training\", unit=\"Epochs\"):\n",
    "        total_loss = 0\n",
    "        model.train()\n",
    "        num_loops=0\n",
    "        for (spt_batch, spc_batch) in zip(spt_loader, spc_loader):\n",
    "            #Note that normalization must be done before it's called. The unnormalized\n",
    "            #data needs to be preserved in order to correctly calculate the loss\n",
    "            spt_batch=spt_batch.to(device)\n",
    "            spc_batch=spc_batch.to(device)\n",
    "            opt.zero_grad()         #zero gradients each time\n",
    "            pred = model(spt_batch,spc_batch,mean_vec_x,std_vec_x,mean_vec_edge,std_vec_edge,mean_vec_force,std_vec_force)\n",
    "            loss = model.loss(pred,spt_batch,mean_vec_y,std_vec_y)\n",
    "            loss.backward()         #backpropagate loss\n",
    "            opt.step()\n",
    "            total_loss += loss.item()\n",
    "            num_loops+=1\n",
    "        total_loss /= num_loops\n",
    "        losses.append(total_loss)\n",
    "\n",
    "        #Every tenth epoch, calculate acceleration test loss and velocity validation loss\n",
    "        if epoch % 10 == 0:\n",
    "            if (args.save_disp_val):\n",
    "                # save velocity evaluation\n",
    "                test_loss, disp_val_rmse = test(spt_test_loader,spc_test_loader,device,model,mean_vec_x,std_vec_x,mean_vec_edge,\n",
    "                                 std_vec_edge,mean_vec_force,std_vec_force,mean_vec_y,std_vec_y, args.save_disp_val)\n",
    "                disp_val_losses.append(disp_val_rmse.item())\n",
    "            else:\n",
    "                test_loss, _ = test(spt_test_loader,spc_test_loader,device,model,mean_vec_x,std_vec_x,mean_vec_edge,\n",
    "                                 std_vec_edge,mean_vec_force,std_vec_force,mean_vec_y,std_vec_y, args.save_disp_val)\n",
    "\n",
    "            test_losses.append(test_loss.item())\n",
    "\n",
    "            # saving model\n",
    "            if not os.path.isdir( args.checkpoint_dir ):\n",
    "                os.mkdir(args.checkpoint_dir)\n",
    "\n",
    "            PATH = os.path.join(args.checkpoint_dir, model_name+'.csv')\n",
    "            df.to_csv(PATH,index=False)\n",
    "\n",
    "            #save the model if the current one is better than the previous best\n",
    "            if test_loss < best_test_loss:\n",
    "                best_test_loss = test_loss\n",
    "                best_model = copy.deepcopy(model)\n",
    "\n",
    "        else:\n",
    "            #If not the tenth epoch, append the previously calculated loss to the\n",
    "            #list in order to be able to plot it on the same plot as the training losses\n",
    "            if (args.save_disp_val):\n",
    "              test_losses.append(test_losses[-1])\n",
    "              disp_val_losses.append(disp_val_losses[-1])\n",
    "\n",
    "        if (args.save_disp_val):\n",
    "            df = df.append({'epoch': epoch,'train_loss': losses[-1],\n",
    "                            'test_loss':test_losses[-1],\n",
    "                           'velo_val_loss': disp_val_losses[-1]}, ignore_index=True)\n",
    "        else:\n",
    "            df = df.append({'epoch': epoch, 'train_loss': losses[-1], 'test_loss': test_losses[-1]}, ignore_index=True)\n",
    "        if(epoch%100==0):\n",
    "            if (args.save_disp_val):\n",
    "                print(\"train loss: \", str(round(total_loss, 2)),\n",
    "                      \"| test loss: \", str(round(test_loss.item(), 2)),\n",
    "                      \"| velo loss: \", str(round(disp_val_rmse.item(), 5)))\n",
    "            else:\n",
    "                print(\"train loss: \", str(round(total_loss,2)), \"| test loss: \", str(round(test_loss.item(),2)))\n",
    "\n",
    "\n",
    "            if(args.save_best_model):\n",
    "\n",
    "                PATH = os.path.join(args.checkpoint_dir, model_name+'.pt')\n",
    "                torch.save(best_model.state_dict(), PATH )\n",
    "\n",
    "    return test_losses, losses, disp_val_losses, best_model, best_test_loss\n",
    "\n",
    "\n",
    "\n",
    "\n",
    "    \n",
    "\n",
    "def test(spt_loader,spc_loader,device,test_model,\n",
    "         mean_vec_x,std_vec_x,mean_vec_edge,std_vec_edge,mean_vec_force,std_vec_force,mean_vec_y,std_vec_y, is_validation,\n",
    "          delta_t=0.01, save_model_preds=False, model_type=None):\n",
    "  \n",
    "    '''\n",
    "    Calculates test set losses and validation set errors.\n",
    "    '''\n",
    "\n",
    "    loss=0\n",
    "    disp_rmse = 0\n",
    "    num_loops=0\n",
    "\n",
    "    for (spt_data, spc_data) in zip(spt_loader, spc_loader):\n",
    "        spt_data=spt_data.to(device)\n",
    "        spc_data=spc_data.to(device)\n",
    "        with torch.no_grad():\n",
    "\n",
    "            #calculate the loss for the model given the test set\n",
    "            pred = test_model(spt_data, spc_data, mean_vec_x, std_vec_x, mean_vec_edge, std_vec_edge, mean_vec_force, std_vec_force)\n",
    "            loss += test_model.loss(pred, spt_data, mean_vec_y, std_vec_y)\n",
    "\n",
    "            #calculate validation error if asked to\n",
    "            if (is_validation):\n",
    "\n",
    "                #Like for the MeshGraphNets model, calculate the mask over which we calculate\n",
    "                #flow loss and add this calculated RMSE value to our val error\n",
    "                normal = torch.tensor(0)\n",
    "                outflow = torch.tensor(5)\n",
    "                loss_mask = torch.logical_or((torch.argmax(spt_data.x[:, 1:], dim=1) == torch.tensor(1)),\n",
    "                                             (torch.argmax(spt_data.x[:, 1:], dim=1) == torch.tensor(2)))\n",
    "\n",
    "                eval_disp = unnormalize( pred[:], mean_vec_y, std_vec_y )\n",
    "                \n",
    "                error = torch.sum((eval_disp - spt_data.y[:]) ** 2, axis=1)\n",
    "                disp_rmse += torch.sqrt(torch.mean(error)) #torch.sqrt(torch.mean(error[loss_mask]))\n",
    "\n",
    "        num_loops+=1\n",
    "        # print('num_loops: ', num_loops)\n",
    "        # if velocity is evaluated, return velo_rmse as 0\n",
    "    return loss/num_loops, disp_rmse/num_loops"
   ]
  },
  {
   "cell_type": "code",
   "execution_count": 22,
   "metadata": {},
   "outputs": [],
   "source": [
    "class objectview(object):\n",
    "    def __init__(self, d):\n",
    "        self.__dict__ = d\n",
    "\n",
    "for args in [\n",
    "        {'model_type': 'meshgraphnet',  \n",
    "         'num_layers': 5,\n",
    "         'batch_size': 32, \n",
    "         'hidden_dim': 8, \n",
    "         'epochs': 10000,\n",
    "         'opt': 'adam', \n",
    "         'opt_scheduler': 'none', \n",
    "         'opt_restart': 0, \n",
    "         'weight_decay': 5e-4, \n",
    "         'lr': 0.001,\n",
    "         'train_size': 448, \n",
    "         'test_size': 64, \n",
    "         'device':'cuda',\n",
    "         'shuffle': True, \n",
    "         'save_disp_val': True,\n",
    "         'save_best_model': True, \n",
    "         'checkpoint_dir': './best_models/',\n",
    "         'postprocess_dir': './2d_loss_plots/'},\n",
    "    ]:\n",
    "        args = objectview(args)\n",
    "\n",
    "#To ensure reproducibility the best we can, here we control the sources of\n",
    "#randomness by seeding the various random number generators used in this Colab\n",
    "#For more information, see: https://pytorch.org/docs/stable/notes/randomness.html\n",
    "torch.manual_seed(5)  #Torch\n",
    "random.seed(5)        #Python\n",
    "np.random.seed(5)     #NumPy"
   ]
  },
  {
   "cell_type": "code",
   "execution_count": 23,
   "metadata": {},
   "outputs": [
    {
     "name": "stdout",
     "output_type": "stream",
     "text": [
      "cpu\n"
     ]
    }
   ],
   "source": [
    "if(args.shuffle):\n",
    "  spt_dataset_shuf = []\n",
    "  spc_dataset_shuf = []\n",
    "  idx_shuf = list(range(len(spt_dataset)))\n",
    "  random.shuffle(idx_shuf)\n",
    "  for i in idx_shuf:\n",
    "    spt_dataset_shuf.append(spt_dataset[i])\n",
    "    spc_dataset_shuf.append(spc_dataset[i])\n",
    "  spt_dataset = spt_dataset_shuf\n",
    "  spc_dataset = spc_dataset_shuf\n",
    "\n",
    "stats_list = get_stats(spt_dataset)\n",
    "\n",
    "device = 'cuda' if torch.cuda.is_available() else 'cpu'\n",
    "args.device = device\n",
    "print(device)"
   ]
  },
  {
   "cell_type": "code",
   "execution_count": 24,
   "metadata": {},
   "outputs": [
    {
     "data": {
      "text/plain": [
       "Data(x=[6, 4], edge_index=[2, 10], edge_attr=[10, 2], y=[6, 1], del_ext_force=[6, 1], stress=[6, 1], strain_energy=[1], current_node_pos=[6, 1])"
      ]
     },
     "execution_count": 24,
     "metadata": {},
     "output_type": "execute_result"
    }
   ],
   "source": [
    "spt_dataset[0]"
   ]
  },
  {
   "cell_type": "code",
   "execution_count": 25,
   "metadata": {},
   "outputs": [
    {
     "name": "stderr",
     "output_type": "stream",
     "text": [
      "c:\\Users\\mmanav\\Anaconda3\\lib\\site-packages\\torch_geometric\\deprecation.py:12: UserWarning: 'data.DataLoader' is deprecated, use 'loader.DataLoader' instead\n",
      "  warnings.warn(out)\n",
      "Training:   0%|          | 1/10000 [00:01<3:05:53,  1.12s/Epochs]"
     ]
    },
    {
     "name": "stdout",
     "output_type": "stream",
     "text": [
      "train loss:  1.0 | test loss:  0.93 | velo loss:  0.00541\n"
     ]
    },
    {
     "name": "stderr",
     "output_type": "stream",
     "text": [
      "Training:   1%|          | 101/10000 [01:24<2:22:45,  1.16Epochs/s]"
     ]
    },
    {
     "name": "stdout",
     "output_type": "stream",
     "text": [
      "train loss:  0.08 | test loss:  0.12 | velo loss:  0.00069\n"
     ]
    },
    {
     "name": "stderr",
     "output_type": "stream",
     "text": [
      "Training:   2%|▏         | 201/10000 [02:47<2:21:15,  1.16Epochs/s]"
     ]
    },
    {
     "name": "stdout",
     "output_type": "stream",
     "text": [
      "train loss:  0.05 | test loss:  0.1 | velo loss:  0.0006\n"
     ]
    },
    {
     "name": "stderr",
     "output_type": "stream",
     "text": [
      "Training:   3%|▎         | 301/10000 [04:11<2:19:46,  1.16Epochs/s]"
     ]
    },
    {
     "name": "stdout",
     "output_type": "stream",
     "text": [
      "train loss:  0.1 | test loss:  0.14 | velo loss:  0.00084\n"
     ]
    },
    {
     "name": "stderr",
     "output_type": "stream",
     "text": [
      "Training:   4%|▍         | 401/10000 [05:35<2:14:58,  1.19Epochs/s]"
     ]
    },
    {
     "name": "stdout",
     "output_type": "stream",
     "text": [
      "train loss:  0.08 | test loss:  0.1 | velo loss:  0.00057\n"
     ]
    },
    {
     "name": "stderr",
     "output_type": "stream",
     "text": [
      "Training:   5%|▌         | 501/10000 [06:59<2:12:31,  1.19Epochs/s]"
     ]
    },
    {
     "name": "stdout",
     "output_type": "stream",
     "text": [
      "train loss:  0.04 | test loss:  0.06 | velo loss:  0.00035\n"
     ]
    },
    {
     "name": "stderr",
     "output_type": "stream",
     "text": [
      "Training:   6%|▌         | 601/10000 [08:23<2:12:57,  1.18Epochs/s]"
     ]
    },
    {
     "name": "stdout",
     "output_type": "stream",
     "text": [
      "train loss:  0.05 | test loss:  0.09 | velo loss:  0.00054\n"
     ]
    },
    {
     "name": "stderr",
     "output_type": "stream",
     "text": [
      "Training:   7%|▋         | 701/10000 [09:47<2:15:11,  1.15Epochs/s]"
     ]
    },
    {
     "name": "stdout",
     "output_type": "stream",
     "text": [
      "train loss:  0.04 | test loss:  0.06 | velo loss:  0.00037\n"
     ]
    },
    {
     "name": "stderr",
     "output_type": "stream",
     "text": [
      "Training:   8%|▊         | 801/10000 [11:12<2:12:15,  1.16Epochs/s]"
     ]
    },
    {
     "name": "stdout",
     "output_type": "stream",
     "text": [
      "train loss:  0.09 | test loss:  0.09 | velo loss:  0.00052\n"
     ]
    },
    {
     "name": "stderr",
     "output_type": "stream",
     "text": [
      "Training:   9%|▉         | 901/10000 [12:37<2:10:27,  1.16Epochs/s]"
     ]
    },
    {
     "name": "stdout",
     "output_type": "stream",
     "text": [
      "train loss:  0.03 | test loss:  0.06 | velo loss:  0.00034\n"
     ]
    },
    {
     "name": "stderr",
     "output_type": "stream",
     "text": [
      "Training:  10%|█         | 1001/10000 [14:00<2:09:13,  1.16Epochs/s]"
     ]
    },
    {
     "name": "stdout",
     "output_type": "stream",
     "text": [
      "train loss:  0.05 | test loss:  0.07 | velo loss:  0.00044\n"
     ]
    },
    {
     "name": "stderr",
     "output_type": "stream",
     "text": [
      "Training:  11%|█         | 1101/10000 [15:24<2:07:42,  1.16Epochs/s]"
     ]
    },
    {
     "name": "stdout",
     "output_type": "stream",
     "text": [
      "train loss:  0.03 | test loss:  0.05 | velo loss:  0.00029\n"
     ]
    },
    {
     "name": "stderr",
     "output_type": "stream",
     "text": [
      "Training:  12%|█▏        | 1201/10000 [16:48<2:08:22,  1.14Epochs/s]"
     ]
    },
    {
     "name": "stdout",
     "output_type": "stream",
     "text": [
      "train loss:  0.03 | test loss:  0.05 | velo loss:  0.0003\n"
     ]
    },
    {
     "name": "stderr",
     "output_type": "stream",
     "text": [
      "Training:  13%|█▎        | 1301/10000 [18:12<2:08:15,  1.13Epochs/s]"
     ]
    },
    {
     "name": "stdout",
     "output_type": "stream",
     "text": [
      "train loss:  0.04 | test loss:  0.05 | velo loss:  0.00029\n"
     ]
    },
    {
     "name": "stderr",
     "output_type": "stream",
     "text": [
      "Training:  14%|█▍        | 1401/10000 [19:37<2:12:51,  1.08Epochs/s]"
     ]
    },
    {
     "name": "stdout",
     "output_type": "stream",
     "text": [
      "train loss:  0.07 | test loss:  0.08 | velo loss:  0.0005\n"
     ]
    },
    {
     "name": "stderr",
     "output_type": "stream",
     "text": [
      "Training:  15%|█▌        | 1501/10000 [21:01<1:56:19,  1.22Epochs/s]"
     ]
    },
    {
     "name": "stdout",
     "output_type": "stream",
     "text": [
      "train loss:  0.03 | test loss:  0.04 | velo loss:  0.00025\n"
     ]
    },
    {
     "name": "stderr",
     "output_type": "stream",
     "text": [
      "Training:  16%|█▌        | 1601/10000 [22:29<2:00:59,  1.16Epochs/s]"
     ]
    },
    {
     "name": "stdout",
     "output_type": "stream",
     "text": [
      "train loss:  0.03 | test loss:  0.05 | velo loss:  0.00027\n"
     ]
    },
    {
     "name": "stderr",
     "output_type": "stream",
     "text": [
      "Training:  17%|█▋        | 1701/10000 [23:55<2:00:24,  1.15Epochs/s]"
     ]
    },
    {
     "name": "stdout",
     "output_type": "stream",
     "text": [
      "train loss:  0.03 | test loss:  0.05 | velo loss:  0.00028\n"
     ]
    },
    {
     "name": "stderr",
     "output_type": "stream",
     "text": [
      "Training:  18%|█▊        | 1801/10000 [25:24<2:04:45,  1.10Epochs/s]"
     ]
    },
    {
     "name": "stdout",
     "output_type": "stream",
     "text": [
      "train loss:  0.03 | test loss:  0.05 | velo loss:  0.00028\n"
     ]
    },
    {
     "name": "stderr",
     "output_type": "stream",
     "text": [
      "Training:  19%|█▉        | 1901/10000 [26:53<1:57:12,  1.15Epochs/s]"
     ]
    },
    {
     "name": "stdout",
     "output_type": "stream",
     "text": [
      "train loss:  0.06 | test loss:  0.05 | velo loss:  0.00031\n"
     ]
    },
    {
     "name": "stderr",
     "output_type": "stream",
     "text": [
      "Training:  20%|██        | 2001/10000 [28:17<1:57:00,  1.14Epochs/s]"
     ]
    },
    {
     "name": "stdout",
     "output_type": "stream",
     "text": [
      "train loss:  0.03 | test loss:  0.04 | velo loss:  0.00024\n"
     ]
    },
    {
     "name": "stderr",
     "output_type": "stream",
     "text": [
      "Training:  21%|██        | 2101/10000 [29:42<1:53:17,  1.16Epochs/s]"
     ]
    },
    {
     "name": "stdout",
     "output_type": "stream",
     "text": [
      "train loss:  0.02 | test loss:  0.03 | velo loss:  0.00019\n"
     ]
    },
    {
     "name": "stderr",
     "output_type": "stream",
     "text": [
      "Training:  22%|██▏       | 2201/10000 [31:05<1:49:49,  1.18Epochs/s]"
     ]
    },
    {
     "name": "stdout",
     "output_type": "stream",
     "text": [
      "train loss:  0.03 | test loss:  0.04 | velo loss:  0.00024\n"
     ]
    },
    {
     "name": "stderr",
     "output_type": "stream",
     "text": [
      "Training:  23%|██▎       | 2301/10000 [32:30<1:50:39,  1.16Epochs/s]"
     ]
    },
    {
     "name": "stdout",
     "output_type": "stream",
     "text": [
      "train loss:  0.02 | test loss:  0.03 | velo loss:  0.00019\n"
     ]
    },
    {
     "name": "stderr",
     "output_type": "stream",
     "text": [
      "Training:  24%|██▍       | 2401/10000 [33:54<1:46:40,  1.19Epochs/s]"
     ]
    },
    {
     "name": "stdout",
     "output_type": "stream",
     "text": [
      "train loss:  0.03 | test loss:  0.04 | velo loss:  0.00022\n"
     ]
    },
    {
     "name": "stderr",
     "output_type": "stream",
     "text": [
      "Training:  25%|██▌       | 2501/10000 [35:18<1:46:34,  1.17Epochs/s]"
     ]
    },
    {
     "name": "stdout",
     "output_type": "stream",
     "text": [
      "train loss:  0.02 | test loss:  0.04 | velo loss:  0.00021\n"
     ]
    },
    {
     "name": "stderr",
     "output_type": "stream",
     "text": [
      "Training:  26%|██▌       | 2601/10000 [36:45<1:45:55,  1.16Epochs/s]"
     ]
    },
    {
     "name": "stdout",
     "output_type": "stream",
     "text": [
      "train loss:  0.02 | test loss:  0.03 | velo loss:  0.00018\n"
     ]
    },
    {
     "name": "stderr",
     "output_type": "stream",
     "text": [
      "Training:  27%|██▋       | 2701/10000 [38:08<1:44:53,  1.16Epochs/s]"
     ]
    },
    {
     "name": "stdout",
     "output_type": "stream",
     "text": [
      "train loss:  0.02 | test loss:  0.05 | velo loss:  0.00028\n"
     ]
    },
    {
     "name": "stderr",
     "output_type": "stream",
     "text": [
      "Training:  28%|██▊       | 2801/10000 [39:32<1:45:10,  1.14Epochs/s]"
     ]
    },
    {
     "name": "stdout",
     "output_type": "stream",
     "text": [
      "train loss:  0.02 | test loss:  0.04 | velo loss:  0.00025\n"
     ]
    },
    {
     "name": "stderr",
     "output_type": "stream",
     "text": [
      "Training:  29%|██▉       | 2901/10000 [40:52<1:33:45,  1.26Epochs/s]"
     ]
    },
    {
     "name": "stdout",
     "output_type": "stream",
     "text": [
      "train loss:  0.02 | test loss:  0.04 | velo loss:  0.00024\n"
     ]
    },
    {
     "name": "stderr",
     "output_type": "stream",
     "text": [
      "Training:  30%|███       | 3001/10000 [42:09<1:37:04,  1.20Epochs/s]"
     ]
    },
    {
     "name": "stdout",
     "output_type": "stream",
     "text": [
      "train loss:  0.02 | test loss:  0.04 | velo loss:  0.00021\n"
     ]
    },
    {
     "name": "stderr",
     "output_type": "stream",
     "text": [
      "Training:  31%|███       | 3101/10000 [43:27<1:32:08,  1.25Epochs/s]"
     ]
    },
    {
     "name": "stdout",
     "output_type": "stream",
     "text": [
      "train loss:  0.02 | test loss:  0.04 | velo loss:  0.00021\n"
     ]
    },
    {
     "name": "stderr",
     "output_type": "stream",
     "text": [
      "Training:  32%|███▏      | 3201/10000 [44:45<1:29:24,  1.27Epochs/s]"
     ]
    },
    {
     "name": "stdout",
     "output_type": "stream",
     "text": [
      "train loss:  0.02 | test loss:  0.03 | velo loss:  0.0002\n"
     ]
    },
    {
     "name": "stderr",
     "output_type": "stream",
     "text": [
      "Training:  33%|███▎      | 3301/10000 [46:02<1:26:25,  1.29Epochs/s]"
     ]
    },
    {
     "name": "stdout",
     "output_type": "stream",
     "text": [
      "train loss:  0.02 | test loss:  0.03 | velo loss:  0.0002\n"
     ]
    },
    {
     "name": "stderr",
     "output_type": "stream",
     "text": [
      "Training:  34%|███▍      | 3401/10000 [47:18<1:27:29,  1.26Epochs/s]"
     ]
    },
    {
     "name": "stdout",
     "output_type": "stream",
     "text": [
      "train loss:  0.02 | test loss:  0.04 | velo loss:  0.00021\n"
     ]
    },
    {
     "name": "stderr",
     "output_type": "stream",
     "text": [
      "Training:  35%|███▌      | 3501/10000 [48:36<1:25:06,  1.27Epochs/s]"
     ]
    },
    {
     "name": "stdout",
     "output_type": "stream",
     "text": [
      "train loss:  0.02 | test loss:  0.04 | velo loss:  0.00025\n"
     ]
    },
    {
     "name": "stderr",
     "output_type": "stream",
     "text": [
      "Training:  36%|███▌      | 3601/10000 [49:53<1:29:52,  1.19Epochs/s]"
     ]
    },
    {
     "name": "stdout",
     "output_type": "stream",
     "text": [
      "train loss:  0.02 | test loss:  0.03 | velo loss:  0.0002\n"
     ]
    },
    {
     "name": "stderr",
     "output_type": "stream",
     "text": [
      "Training:  37%|███▋      | 3701/10000 [51:10<1:23:56,  1.25Epochs/s]"
     ]
    },
    {
     "name": "stdout",
     "output_type": "stream",
     "text": [
      "train loss:  0.03 | test loss:  0.04 | velo loss:  0.00024\n"
     ]
    },
    {
     "name": "stderr",
     "output_type": "stream",
     "text": [
      "Training:  38%|███▊      | 3801/10000 [52:28<1:23:42,  1.23Epochs/s]"
     ]
    },
    {
     "name": "stdout",
     "output_type": "stream",
     "text": [
      "train loss:  0.02 | test loss:  0.03 | velo loss:  0.00019\n"
     ]
    },
    {
     "name": "stderr",
     "output_type": "stream",
     "text": [
      "Training:  39%|███▉      | 3901/10000 [53:45<1:21:12,  1.25Epochs/s]"
     ]
    },
    {
     "name": "stdout",
     "output_type": "stream",
     "text": [
      "train loss:  0.02 | test loss:  0.03 | velo loss:  0.00018\n"
     ]
    },
    {
     "name": "stderr",
     "output_type": "stream",
     "text": [
      "Training:  40%|████      | 4001/10000 [55:05<1:20:14,  1.25Epochs/s]"
     ]
    },
    {
     "name": "stdout",
     "output_type": "stream",
     "text": [
      "train loss:  0.02 | test loss:  0.03 | velo loss:  0.00017\n"
     ]
    },
    {
     "name": "stderr",
     "output_type": "stream",
     "text": [
      "Training:  41%|████      | 4101/10000 [56:24<1:19:53,  1.23Epochs/s]"
     ]
    },
    {
     "name": "stdout",
     "output_type": "stream",
     "text": [
      "train loss:  0.02 | test loss:  0.03 | velo loss:  0.0002\n"
     ]
    },
    {
     "name": "stderr",
     "output_type": "stream",
     "text": [
      "Training:  42%|████▏     | 4201/10000 [57:43<1:16:11,  1.27Epochs/s]"
     ]
    },
    {
     "name": "stdout",
     "output_type": "stream",
     "text": [
      "train loss:  0.04 | test loss:  0.05 | velo loss:  0.00028\n"
     ]
    },
    {
     "name": "stderr",
     "output_type": "stream",
     "text": [
      "Training:  43%|████▎     | 4301/10000 [59:01<1:15:41,  1.25Epochs/s]"
     ]
    },
    {
     "name": "stdout",
     "output_type": "stream",
     "text": [
      "train loss:  0.02 | test loss:  0.03 | velo loss:  0.00018\n"
     ]
    },
    {
     "name": "stderr",
     "output_type": "stream",
     "text": [
      "Training:  44%|████▍     | 4401/10000 [1:00:20<1:16:08,  1.23Epochs/s]"
     ]
    },
    {
     "name": "stdout",
     "output_type": "stream",
     "text": [
      "train loss:  0.02 | test loss:  0.03 | velo loss:  0.00018\n"
     ]
    },
    {
     "name": "stderr",
     "output_type": "stream",
     "text": [
      "Training:  45%|████▌     | 4501/10000 [1:01:39<1:16:24,  1.20Epochs/s]"
     ]
    },
    {
     "name": "stdout",
     "output_type": "stream",
     "text": [
      "train loss:  0.03 | test loss:  0.04 | velo loss:  0.00021\n"
     ]
    },
    {
     "name": "stderr",
     "output_type": "stream",
     "text": [
      "Training:  46%|████▌     | 4601/10000 [1:02:57<1:11:57,  1.25Epochs/s]"
     ]
    },
    {
     "name": "stdout",
     "output_type": "stream",
     "text": [
      "train loss:  0.02 | test loss:  0.03 | velo loss:  0.00019\n"
     ]
    },
    {
     "name": "stderr",
     "output_type": "stream",
     "text": [
      "Training:  47%|████▋     | 4701/10000 [1:04:15<1:11:52,  1.23Epochs/s]"
     ]
    },
    {
     "name": "stdout",
     "output_type": "stream",
     "text": [
      "train loss:  0.02 | test loss:  0.03 | velo loss:  0.00018\n"
     ]
    },
    {
     "name": "stderr",
     "output_type": "stream",
     "text": [
      "Training:  48%|████▊     | 4801/10000 [1:05:34<1:12:14,  1.20Epochs/s]"
     ]
    },
    {
     "name": "stdout",
     "output_type": "stream",
     "text": [
      "train loss:  0.02 | test loss:  0.03 | velo loss:  0.00019\n"
     ]
    },
    {
     "name": "stderr",
     "output_type": "stream",
     "text": [
      "Training:  49%|████▉     | 4901/10000 [1:06:52<1:10:07,  1.21Epochs/s]"
     ]
    },
    {
     "name": "stdout",
     "output_type": "stream",
     "text": [
      "train loss:  0.03 | test loss:  0.03 | velo loss:  0.00019\n"
     ]
    },
    {
     "name": "stderr",
     "output_type": "stream",
     "text": [
      "Training:  50%|█████     | 5001/10000 [1:08:10<1:07:39,  1.23Epochs/s]"
     ]
    },
    {
     "name": "stdout",
     "output_type": "stream",
     "text": [
      "train loss:  0.02 | test loss:  0.03 | velo loss:  0.00017\n"
     ]
    },
    {
     "name": "stderr",
     "output_type": "stream",
     "text": [
      "Training:  51%|█████     | 5101/10000 [1:09:28<1:06:04,  1.24Epochs/s]"
     ]
    },
    {
     "name": "stdout",
     "output_type": "stream",
     "text": [
      "train loss:  0.02 | test loss:  0.03 | velo loss:  0.0002\n"
     ]
    },
    {
     "name": "stderr",
     "output_type": "stream",
     "text": [
      "Training:  52%|█████▏    | 5201/10000 [1:10:46<1:05:09,  1.23Epochs/s]"
     ]
    },
    {
     "name": "stdout",
     "output_type": "stream",
     "text": [
      "train loss:  0.02 | test loss:  0.03 | velo loss:  0.00019\n"
     ]
    },
    {
     "name": "stderr",
     "output_type": "stream",
     "text": [
      "Training:  53%|█████▎    | 5301/10000 [1:12:04<1:04:55,  1.21Epochs/s]"
     ]
    },
    {
     "name": "stdout",
     "output_type": "stream",
     "text": [
      "train loss:  0.03 | test loss:  0.04 | velo loss:  0.00026\n"
     ]
    },
    {
     "name": "stderr",
     "output_type": "stream",
     "text": [
      "Training:  54%|█████▍    | 5401/10000 [1:13:24<1:02:00,  1.24Epochs/s]"
     ]
    },
    {
     "name": "stdout",
     "output_type": "stream",
     "text": [
      "train loss:  0.02 | test loss:  0.04 | velo loss:  0.00021\n"
     ]
    },
    {
     "name": "stderr",
     "output_type": "stream",
     "text": [
      "Training:  55%|█████▌    | 5501/10000 [1:14:43<1:01:18,  1.22Epochs/s]"
     ]
    },
    {
     "name": "stdout",
     "output_type": "stream",
     "text": [
      "train loss:  0.02 | test loss:  0.03 | velo loss:  0.00018\n"
     ]
    },
    {
     "name": "stderr",
     "output_type": "stream",
     "text": [
      "Training:  56%|█████▌    | 5601/10000 [1:16:02<59:41,  1.23Epochs/s]  "
     ]
    },
    {
     "name": "stdout",
     "output_type": "stream",
     "text": [
      "train loss:  0.02 | test loss:  0.03 | velo loss:  0.00018\n"
     ]
    },
    {
     "name": "stderr",
     "output_type": "stream",
     "text": [
      "Training:  57%|█████▋    | 5701/10000 [1:17:21<1:00:46,  1.18Epochs/s]"
     ]
    },
    {
     "name": "stdout",
     "output_type": "stream",
     "text": [
      "train loss:  0.02 | test loss:  0.03 | velo loss:  0.0002\n"
     ]
    },
    {
     "name": "stderr",
     "output_type": "stream",
     "text": [
      "Training:  58%|█████▊    | 5801/10000 [1:18:40<56:37,  1.24Epochs/s]  "
     ]
    },
    {
     "name": "stdout",
     "output_type": "stream",
     "text": [
      "train loss:  0.02 | test loss:  0.03 | velo loss:  0.0002\n"
     ]
    },
    {
     "name": "stderr",
     "output_type": "stream",
     "text": [
      "Training:  59%|█████▉    | 5901/10000 [1:19:58<54:51,  1.25Epochs/s]"
     ]
    },
    {
     "name": "stdout",
     "output_type": "stream",
     "text": [
      "train loss:  0.02 | test loss:  0.03 | velo loss:  0.00016\n"
     ]
    },
    {
     "name": "stderr",
     "output_type": "stream",
     "text": [
      "Training:  60%|██████    | 6001/10000 [1:21:18<54:37,  1.22Epochs/s]"
     ]
    },
    {
     "name": "stdout",
     "output_type": "stream",
     "text": [
      "train loss:  0.02 | test loss:  0.03 | velo loss:  0.00019\n"
     ]
    },
    {
     "name": "stderr",
     "output_type": "stream",
     "text": [
      "Training:  61%|██████    | 6101/10000 [1:22:38<54:44,  1.19Epochs/s]"
     ]
    },
    {
     "name": "stdout",
     "output_type": "stream",
     "text": [
      "train loss:  0.02 | test loss:  0.03 | velo loss:  0.0002\n"
     ]
    },
    {
     "name": "stderr",
     "output_type": "stream",
     "text": [
      "Training:  62%|██████▏   | 6201/10000 [1:23:57<50:55,  1.24Epochs/s]"
     ]
    },
    {
     "name": "stdout",
     "output_type": "stream",
     "text": [
      "train loss:  0.02 | test loss:  0.03 | velo loss:  0.00017\n"
     ]
    },
    {
     "name": "stderr",
     "output_type": "stream",
     "text": [
      "Training:  63%|██████▎   | 6301/10000 [1:25:16<50:19,  1.22Epochs/s]"
     ]
    },
    {
     "name": "stdout",
     "output_type": "stream",
     "text": [
      "train loss:  0.02 | test loss:  0.03 | velo loss:  0.00016\n"
     ]
    },
    {
     "name": "stderr",
     "output_type": "stream",
     "text": [
      "Training:  64%|██████▍   | 6401/10000 [1:26:35<49:56,  1.20Epochs/s]"
     ]
    },
    {
     "name": "stdout",
     "output_type": "stream",
     "text": [
      "train loss:  0.02 | test loss:  0.04 | velo loss:  0.00021\n"
     ]
    },
    {
     "name": "stderr",
     "output_type": "stream",
     "text": [
      "Training:  65%|██████▌   | 6501/10000 [1:27:55<48:12,  1.21Epochs/s]"
     ]
    },
    {
     "name": "stdout",
     "output_type": "stream",
     "text": [
      "train loss:  0.02 | test loss:  0.03 | velo loss:  0.00017\n"
     ]
    },
    {
     "name": "stderr",
     "output_type": "stream",
     "text": [
      "Training:  66%|██████▌   | 6601/10000 [1:29:14<46:31,  1.22Epochs/s]"
     ]
    },
    {
     "name": "stdout",
     "output_type": "stream",
     "text": [
      "train loss:  0.02 | test loss:  0.04 | velo loss:  0.00021\n"
     ]
    },
    {
     "name": "stderr",
     "output_type": "stream",
     "text": [
      "Training:  67%|██████▋   | 6701/10000 [1:30:33<44:29,  1.24Epochs/s]"
     ]
    },
    {
     "name": "stdout",
     "output_type": "stream",
     "text": [
      "train loss:  0.02 | test loss:  0.04 | velo loss:  0.00021\n"
     ]
    },
    {
     "name": "stderr",
     "output_type": "stream",
     "text": [
      "Training:  68%|██████▊   | 6801/10000 [1:31:52<44:10,  1.21Epochs/s]"
     ]
    },
    {
     "name": "stdout",
     "output_type": "stream",
     "text": [
      "train loss:  0.02 | test loss:  0.03 | velo loss:  0.00019\n"
     ]
    },
    {
     "name": "stderr",
     "output_type": "stream",
     "text": [
      "Training:  69%|██████▉   | 6901/10000 [1:33:12<42:32,  1.21Epochs/s]"
     ]
    },
    {
     "name": "stdout",
     "output_type": "stream",
     "text": [
      "train loss:  0.02 | test loss:  0.03 | velo loss:  0.00018\n"
     ]
    },
    {
     "name": "stderr",
     "output_type": "stream",
     "text": [
      "Training:  70%|███████   | 7001/10000 [1:34:32<41:00,  1.22Epochs/s]"
     ]
    },
    {
     "name": "stdout",
     "output_type": "stream",
     "text": [
      "train loss:  0.02 | test loss:  0.03 | velo loss:  0.00017\n"
     ]
    },
    {
     "name": "stderr",
     "output_type": "stream",
     "text": [
      "Training:  71%|███████   | 7101/10000 [1:35:51<39:31,  1.22Epochs/s]"
     ]
    },
    {
     "name": "stdout",
     "output_type": "stream",
     "text": [
      "train loss:  0.02 | test loss:  0.03 | velo loss:  0.00019\n"
     ]
    },
    {
     "name": "stderr",
     "output_type": "stream",
     "text": [
      "Training:  72%|███████▏  | 7201/10000 [1:37:09<39:06,  1.19Epochs/s]"
     ]
    },
    {
     "name": "stdout",
     "output_type": "stream",
     "text": [
      "train loss:  0.02 | test loss:  0.03 | velo loss:  0.00018\n"
     ]
    },
    {
     "name": "stderr",
     "output_type": "stream",
     "text": [
      "Training:  73%|███████▎  | 7301/10000 [1:38:29<37:40,  1.19Epochs/s]"
     ]
    },
    {
     "name": "stdout",
     "output_type": "stream",
     "text": [
      "train loss:  0.02 | test loss:  0.03 | velo loss:  0.00016\n"
     ]
    },
    {
     "name": "stderr",
     "output_type": "stream",
     "text": [
      "Training:  74%|███████▍  | 7401/10000 [1:39:49<35:16,  1.23Epochs/s]"
     ]
    },
    {
     "name": "stdout",
     "output_type": "stream",
     "text": [
      "train loss:  0.02 | test loss:  0.03 | velo loss:  0.00017\n"
     ]
    },
    {
     "name": "stderr",
     "output_type": "stream",
     "text": [
      "Training:  75%|███████▌  | 7501/10000 [1:41:08<34:48,  1.20Epochs/s]"
     ]
    },
    {
     "name": "stdout",
     "output_type": "stream",
     "text": [
      "train loss:  0.02 | test loss:  0.03 | velo loss:  0.00019\n"
     ]
    },
    {
     "name": "stderr",
     "output_type": "stream",
     "text": [
      "Training:  76%|███████▌  | 7601/10000 [1:42:29<35:26,  1.13Epochs/s]"
     ]
    },
    {
     "name": "stdout",
     "output_type": "stream",
     "text": [
      "train loss:  0.02 | test loss:  0.03 | velo loss:  0.00019\n"
     ]
    },
    {
     "name": "stderr",
     "output_type": "stream",
     "text": [
      "Training:  77%|███████▋  | 7701/10000 [1:43:51<31:54,  1.20Epochs/s]"
     ]
    },
    {
     "name": "stdout",
     "output_type": "stream",
     "text": [
      "train loss:  0.02 | test loss:  0.03 | velo loss:  0.00019\n"
     ]
    },
    {
     "name": "stderr",
     "output_type": "stream",
     "text": [
      "Training:  78%|███████▊  | 7801/10000 [1:45:11<29:59,  1.22Epochs/s]"
     ]
    },
    {
     "name": "stdout",
     "output_type": "stream",
     "text": [
      "train loss:  0.02 | test loss:  0.04 | velo loss:  0.00024\n"
     ]
    },
    {
     "name": "stderr",
     "output_type": "stream",
     "text": [
      "Training:  79%|███████▉  | 7901/10000 [1:46:30<28:15,  1.24Epochs/s]"
     ]
    },
    {
     "name": "stdout",
     "output_type": "stream",
     "text": [
      "train loss:  0.02 | test loss:  0.04 | velo loss:  0.00024\n"
     ]
    },
    {
     "name": "stderr",
     "output_type": "stream",
     "text": [
      "Training:  80%|████████  | 8001/10000 [1:47:51<28:05,  1.19Epochs/s]"
     ]
    },
    {
     "name": "stdout",
     "output_type": "stream",
     "text": [
      "train loss:  0.02 | test loss:  0.04 | velo loss:  0.00021\n"
     ]
    },
    {
     "name": "stderr",
     "output_type": "stream",
     "text": [
      "Training:  81%|████████  | 8101/10000 [1:49:11<26:05,  1.21Epochs/s]"
     ]
    },
    {
     "name": "stdout",
     "output_type": "stream",
     "text": [
      "train loss:  0.02 | test loss:  0.03 | velo loss:  0.00019\n"
     ]
    },
    {
     "name": "stderr",
     "output_type": "stream",
     "text": [
      "Training:  82%|████████▏ | 8201/10000 [1:50:31<25:00,  1.20Epochs/s]"
     ]
    },
    {
     "name": "stdout",
     "output_type": "stream",
     "text": [
      "train loss:  0.02 | test loss:  0.03 | velo loss:  0.00016\n"
     ]
    },
    {
     "name": "stderr",
     "output_type": "stream",
     "text": [
      "Training:  83%|████████▎ | 8301/10000 [1:51:50<23:28,  1.21Epochs/s]"
     ]
    },
    {
     "name": "stdout",
     "output_type": "stream",
     "text": [
      "train loss:  0.03 | test loss:  0.04 | velo loss:  0.00025\n"
     ]
    },
    {
     "name": "stderr",
     "output_type": "stream",
     "text": [
      "Training:  84%|████████▍ | 8401/10000 [1:53:10<21:54,  1.22Epochs/s]"
     ]
    },
    {
     "name": "stdout",
     "output_type": "stream",
     "text": [
      "train loss:  0.02 | test loss:  0.05 | velo loss:  0.00027\n"
     ]
    },
    {
     "name": "stderr",
     "output_type": "stream",
     "text": [
      "Training:  85%|████████▌ | 8501/10000 [1:54:30<20:48,  1.20Epochs/s]"
     ]
    },
    {
     "name": "stdout",
     "output_type": "stream",
     "text": [
      "train loss:  0.01 | test loss:  0.03 | velo loss:  0.00018\n"
     ]
    },
    {
     "name": "stderr",
     "output_type": "stream",
     "text": [
      "Training:  86%|████████▌ | 8601/10000 [1:55:51<19:33,  1.19Epochs/s]"
     ]
    },
    {
     "name": "stdout",
     "output_type": "stream",
     "text": [
      "train loss:  0.02 | test loss:  0.03 | velo loss:  0.0002\n"
     ]
    },
    {
     "name": "stderr",
     "output_type": "stream",
     "text": [
      "Training:  87%|████████▋ | 8701/10000 [1:57:12<18:12,  1.19Epochs/s]"
     ]
    },
    {
     "name": "stdout",
     "output_type": "stream",
     "text": [
      "train loss:  0.02 | test loss:  0.04 | velo loss:  0.00023\n"
     ]
    },
    {
     "name": "stderr",
     "output_type": "stream",
     "text": [
      "Training:  88%|████████▊ | 8801/10000 [1:58:32<16:40,  1.20Epochs/s]"
     ]
    },
    {
     "name": "stdout",
     "output_type": "stream",
     "text": [
      "train loss:  0.02 | test loss:  0.03 | velo loss:  0.00019\n"
     ]
    },
    {
     "name": "stderr",
     "output_type": "stream",
     "text": [
      "Training:  89%|████████▉ | 8901/10000 [1:59:53<15:30,  1.18Epochs/s]"
     ]
    },
    {
     "name": "stdout",
     "output_type": "stream",
     "text": [
      "train loss:  0.02 | test loss:  0.04 | velo loss:  0.00022\n"
     ]
    },
    {
     "name": "stderr",
     "output_type": "stream",
     "text": [
      "Training:  90%|█████████ | 9001/10000 [2:01:13<13:45,  1.21Epochs/s]"
     ]
    },
    {
     "name": "stdout",
     "output_type": "stream",
     "text": [
      "train loss:  0.02 | test loss:  0.04 | velo loss:  0.00022\n"
     ]
    },
    {
     "name": "stderr",
     "output_type": "stream",
     "text": [
      "Training:  91%|█████████ | 9101/10000 [2:02:32<12:21,  1.21Epochs/s]"
     ]
    },
    {
     "name": "stdout",
     "output_type": "stream",
     "text": [
      "train loss:  0.01 | test loss:  0.03 | velo loss:  0.00019\n"
     ]
    },
    {
     "name": "stderr",
     "output_type": "stream",
     "text": [
      "Training:  92%|█████████▏| 9201/10000 [2:03:52<11:19,  1.18Epochs/s]"
     ]
    },
    {
     "name": "stdout",
     "output_type": "stream",
     "text": [
      "train loss:  0.02 | test loss:  0.04 | velo loss:  0.00021\n"
     ]
    },
    {
     "name": "stderr",
     "output_type": "stream",
     "text": [
      "Training:  93%|█████████▎| 9301/10000 [2:05:13<09:42,  1.20Epochs/s]"
     ]
    },
    {
     "name": "stdout",
     "output_type": "stream",
     "text": [
      "train loss:  0.02 | test loss:  0.03 | velo loss:  0.0002\n"
     ]
    },
    {
     "name": "stderr",
     "output_type": "stream",
     "text": [
      "Training:  94%|█████████▍| 9401/10000 [2:06:34<08:11,  1.22Epochs/s]"
     ]
    },
    {
     "name": "stdout",
     "output_type": "stream",
     "text": [
      "train loss:  0.02 | test loss:  0.04 | velo loss:  0.00021\n"
     ]
    },
    {
     "name": "stderr",
     "output_type": "stream",
     "text": [
      "Training:  95%|█████████▌| 9501/10000 [2:07:53<06:55,  1.20Epochs/s]"
     ]
    },
    {
     "name": "stdout",
     "output_type": "stream",
     "text": [
      "train loss:  0.05 | test loss:  0.06 | velo loss:  0.00034\n"
     ]
    },
    {
     "name": "stderr",
     "output_type": "stream",
     "text": [
      "Training:  96%|█████████▌| 9601/10000 [2:09:13<05:45,  1.15Epochs/s]"
     ]
    },
    {
     "name": "stdout",
     "output_type": "stream",
     "text": [
      "train loss:  0.02 | test loss:  0.05 | velo loss:  0.00026\n"
     ]
    },
    {
     "name": "stderr",
     "output_type": "stream",
     "text": [
      "Training:  97%|█████████▋| 9701/10000 [2:10:34<04:06,  1.21Epochs/s]"
     ]
    },
    {
     "name": "stdout",
     "output_type": "stream",
     "text": [
      "train loss:  0.02 | test loss:  0.03 | velo loss:  0.00018\n"
     ]
    },
    {
     "name": "stderr",
     "output_type": "stream",
     "text": [
      "Training:  98%|█████████▊| 9801/10000 [2:11:53<02:40,  1.24Epochs/s]"
     ]
    },
    {
     "name": "stdout",
     "output_type": "stream",
     "text": [
      "train loss:  0.01 | test loss:  0.03 | velo loss:  0.00018\n"
     ]
    },
    {
     "name": "stderr",
     "output_type": "stream",
     "text": [
      "Training:  99%|█████████▉| 9901/10000 [2:13:12<01:21,  1.21Epochs/s]"
     ]
    },
    {
     "name": "stdout",
     "output_type": "stream",
     "text": [
      "train loss:  0.02 | test loss:  0.04 | velo loss:  0.00022\n"
     ]
    },
    {
     "name": "stderr",
     "output_type": "stream",
     "text": [
      "Training: 100%|██████████| 10000/10000 [2:14:31<00:00,  1.24Epochs/s]"
     ]
    },
    {
     "name": "stdout",
     "output_type": "stream",
     "text": [
      "Min test set loss: 0.023125194013118744\n",
      "Minimum loss: 0.011543526114629847\n",
      "Minimum displacement validation loss: 0.00013519299682229757\n"
     ]
    },
    {
     "name": "stderr",
     "output_type": "stream",
     "text": [
      "\n"
     ]
    }
   ],
   "source": [
    "test_losses, losses, disp_val_losses, best_model, best_test_loss = train(spt_dataset, spc_dataset, device, stats_list, args)\n",
    "\n",
    "print(\"Min test set loss: {0}\".format(min(test_losses)))\n",
    "print(\"Minimum loss: {0}\".format(min(losses)))\n",
    "if (args.save_disp_val):\n",
    "    print(\"Minimum displacement validation loss: {0}\".format(min(disp_val_losses)))"
   ]
  },
  {
   "cell_type": "code",
   "execution_count": 20,
   "metadata": {},
   "outputs": [],
   "source": [
    "def save_plots(args, losses, test_losses, velo_val_losses):\n",
    "    model_name='model_spectralGNN_w_X_StressType_nl'+str(args.num_layers)+'_bs'+str(args.batch_size) + \\\n",
    "               '_hd'+str(args.hidden_dim)+'_ep'+str(args.epochs)+'_wd'+str(args.weight_decay) + \\\n",
    "               '_lr'+str(args.lr)+'_shuff_'+str(args.shuffle)+'_tr'+str(args.train_size)+'_te'+str(args.test_size)\n",
    "\n",
    "    if not os.path.isdir(args.postprocess_dir):\n",
    "        os.mkdir(args.postprocess_dir)\n",
    "\n",
    "    PATH = os.path.join(args.postprocess_dir, model_name + '.pdf')\n",
    "\n",
    "    f = plt.figure()\n",
    "    plt.title('Losses Plot')\n",
    "    plt.plot(losses[100:], label=\"training loss\")\n",
    "    plt.plot(test_losses[100:], label=\"validation loss\")\n",
    "    #if (args.save_velo_val):\n",
    "    #    plt.plot(velo_val_losses, label=\"velocity loss\" + \" - \" + args.model_type)\n",
    "    plt.xlabel('Epoch')\n",
    "    plt.ylabel('Loss')\n",
    "\n",
    "    plt.legend()\n",
    "    plt.show()\n",
    "    f.savefig(PATH, bbox_inches='tight')"
   ]
  },
  {
   "cell_type": "code",
   "execution_count": 21,
   "metadata": {},
   "outputs": [
    {
     "data": {
      "image/png": "[encoded data removed]",
      "text/plain": [
       "<Figure size 432x288 with 1 Axes>"
      ]
     },
     "metadata": {
      "needs_background": "light"
     },
     "output_type": "display_data"
    }
   ],
   "source": [
    "save_plots(args, losses, test_losses, disp_val_losses)"
   ]
  },
  {
   "cell_type": "code",
   "execution_count": 5,
   "metadata": {},
   "outputs": [
    {
     "name": "stdout",
     "output_type": "stream",
     "text": [
      "Trajectory:  0\n",
      "data_list length:  2\n",
      "Done collecting data!\n",
      "Done saving data!\n"
     ]
    }
   ],
   "source": [
    "spt_data_list = []\n",
    "spc_data_list = []\n",
    "number_trajectories = 1\n",
    "number_ts = 45\n",
    "\n",
    "with open(\"data_test2.pkl\",'rb') as file:\n",
    "    data = pickle.load(file)\n",
    "\n",
    "    for i, trajectory in enumerate(data.keys()):\n",
    "        if(i==number_trajectories):\n",
    "            break\n",
    "        print(\"Trajectory: \",i)\n",
    "\n",
    "        #We iterate over all the time steps to produce an example graph except\n",
    "        #for the last one, which does not have a following time step to produce\n",
    "        #node output values\n",
    "        for ts in range(len(data[trajectory]['current_node_pos'])-1):\n",
    "\n",
    "            if(ts==number_ts):\n",
    "                break\n",
    "\n",
    "            #Get node features\n",
    "            ref_node_pos = torch.from_numpy(data[trajectory]['ref_node_pos'][ts])\n",
    "            current_node_pos = torch.from_numpy(data[trajectory]['current_node_pos'][ts])\n",
    "            del_ext_force = torch.from_numpy(data[trajectory][\"del_ext_force\"][ts])\n",
    "            node_type_idx = data[trajectory]['node_types'][ts]\n",
    "            # convert to one hot tensor form\n",
    "            node_type = torch.zeros(node_type_idx.shape[0], np.unique(node_type_idx).shape[0])\n",
    "            for j in range(node_type_idx.shape[0]):\n",
    "                node_type[j, node_type_idx[j, 0]] = 1\n",
    "\n",
    "\n",
    "            stress = torch.from_numpy(data[trajectory]['stress'][ts])\n",
    "            stress = stress + (var_noise**0.5)*torch.randn(stress.shape)\n",
    "            # x = torch.cat((ref_node_pos, current_node_pos, del_ext_force, node_type), dim=-1).type(torch.float)\n",
    "            # x = node_type.type(torch.float)\n",
    "            x = torch.cat((stress, node_type), dim=-1).type(torch.float)\n",
    "            \n",
    "            n_nodes = torch.tensor([[x.shape[0]]])\n",
    "\n",
    "            edge_index = torch.from_numpy(data[trajectory]['edge_index'][ts]).type(torch.long)\n",
    "\n",
    "            #Get edge features (mesh space as well as current configuration)\n",
    "            uR_i = torch.from_numpy(data[trajectory]['ref_node_pos'][ts])[edge_index[0]]\n",
    "            uR_j = torch.from_numpy(data[trajectory]['ref_node_pos'][ts])[edge_index[1]]\n",
    "            uR_ij = uR_i-uR_j\n",
    "            uR_ij_norm = torch.norm(uR_ij, p=2, dim=1, keepdim=True)\n",
    "            uC_i = torch.from_numpy(data[trajectory]['current_node_pos'][ts])[edge_index[0]]\n",
    "            uC_j = torch.from_numpy(data[trajectory]['current_node_pos'][ts])[edge_index[1]]\n",
    "            uC_ij = uC_i-uC_j\n",
    "            uC_ij_norm = torch.norm(uC_ij, p=2, dim=1, keepdim=True)\n",
    "\n",
    "            edge_attr = torch.cat((uR_ij, uR_ij_norm), dim=-1).type(torch.float) #, uC_ij, uC_ij_norm\n",
    "\n",
    "            del_ext_force = del_ext_force.type(torch.float)\n",
    "\n",
    "            #Node outputs, for training\n",
    "            del_displacement = torch.from_numpy(data[trajectory]['current_node_pos'][ts+1]-data[trajectory]['current_node_pos'][ts])\n",
    "            # y = del_displacement.type(torch.float)\n",
    "            stress_next = torch.from_numpy(data[trajectory]['stress'][ts+1])\n",
    "            y = torch.cat((del_displacement, stress_next), dim=-1).type(torch.float)\n",
    "\n",
    "            #Node outputs, for testing\n",
    "            stress = torch.from_numpy(data[trajectory]['stress'][ts])\n",
    "            strain_energy = torch.from_numpy(data[trajectory]['strain_energy'][ts])\n",
    "\n",
    "            #Data needed for visualization code\n",
    "            current_node_pos = torch.from_numpy(data[trajectory]['current_node_pos'][ts])\n",
    "\n",
    "            # spectral graph information\n",
    "            ed_idx, ed_w = get_laplacian(edge_index)\n",
    "            lap = torch.sparse_coo_tensor(ed_idx, ed_w, (x.shape[0], x.shape[0]))\n",
    "            lap = lap.to_dense()\n",
    "            E, V = torch.linalg.eigh(lap)\n",
    "            idx_st = 0\n",
    "            E = E[idx_st:idx_st+num_eig]\n",
    "            V = V[:, idx_st:idx_st+num_eig]\n",
    "            V = V/torch.sqrt(torch.sum(V**2, axis=0))\n",
    "\n",
    "            spx = E.reshape(-1, 1)\n",
    "            sp_edge_index_init = torch.ones(num_eig, num_eig) - torch.eye(num_eig)\n",
    "            sp_edge_index_init = sp_edge_index_init.to_sparse()\n",
    "            sp_edge_index = sp_edge_index_init.indices()\n",
    "            sp_edge_attr = torch.ones((sp_edge_index.shape[1], 1), dtype = torch.float)\n",
    "\n",
    "            spt_data_list.append(Data(x = x, edge_index = edge_index, edge_attr = edge_attr, del_ext_force = del_ext_force, y = y,\n",
    "                                  stress = stress, strain_energy = strain_energy, current_node_pos = current_node_pos))\n",
    "\n",
    "            spc_data_list.append(Data(x = spx, edge_index = sp_edge_index, edge_attr = sp_edge_attr, V = V, n_nodes = n_nodes))\n",
    "\n",
    "    \n",
    "\n",
    "data_list = {\"spt_data_list\": spt_data_list, \n",
    "                \"spc_data_list\": spc_data_list}\n",
    "            \n",
    "\n",
    "print(\"data_list length: \", len(data_list))\n",
    "print(\"Done collecting data!\")\n",
    "\n",
    "torch.save(data_list, 'processed_test_set.pt')\n",
    "print(\"Done saving data!\")\n",
    "\n",
    "#os.path.join(data_folder + '/test.h5')\n",
    "#torch.save(data_list,'./'+dataset_dir+'/test_processed_set.pt')\n",
    "\n",
    "# print(\"Output Location: \", dataset_dir+'/test_processed_set.pt')"
   ]
  },
  {
   "cell_type": "code",
   "execution_count": 114,
   "metadata": {},
   "outputs": [],
   "source": [
    "dataset = torch.load('processed_test_set.pt')\n",
    "spt_dataset = dataset[\"spt_data_list\"][:]\n",
    "spc_dataset = dataset[\"spc_data_list\"][:]"
   ]
  },
  {
   "cell_type": "code",
   "execution_count": 115,
   "metadata": {},
   "outputs": [],
   "source": [
    "from matplotlib import animation\n",
    "import matplotlib.pyplot as plt\n",
    "from mpl_toolkits.axes_grid1 import make_axes_locatable\n",
    "\n",
    "def make_animation(gs, pred, evl, path, name , skip = 2, save_anim = True, plot_variables = False):\n",
    "    '''\n",
    "    input gs is a dataloader and each entry contains attributes of many timesteps.\n",
    "\n",
    "    '''\n",
    "    print('Generating displacement fields...')\n",
    "    fig, axes = plt.subplots(2, 1, figsize=(20, 16))\n",
    "    num_steps = len(gs) # for a single trajectory\n",
    "    num_frames = num_steps // skip\n",
    "    print(num_steps)\n",
    "    def animate(num):\n",
    "        step = (num*skip) % num_steps\n",
    "        traj = 0\n",
    "\n",
    "        bb_min = gs[-1].current_node_pos.min()\n",
    "        bb_max = gs[-1].current_node_pos.max()\n",
    "        bb_min_evl = evl[-1].current_node_pos.min()\n",
    "        bb_max_evl = evl[-1].current_node_pos.max()\n",
    "        count = 0\n",
    "\n",
    "        for ax in axes:\n",
    "            ax.cla()\n",
    "            #ax.set_aspect('equal')\n",
    "            #ax.set_axis_off()\n",
    "            \n",
    "            pos = gs[step].current_node_pos\n",
    "            if (count == 0):\n",
    "                # ground truth\n",
    "                position_gs = gs[step].current_node_pos\n",
    "                position_pred = pred[step].current_node_pos\n",
    "                title = 'Ground truth and predicted current position'\n",
    "                ax.plot(position_gs, torch.zeros(position_gs.shape), 'ko-', linewidth = 3.0)\n",
    "                ax.plot(position_pred, torch.zeros(position_pred.shape), 'r*-', linewidth = 2.0)\n",
    "                ax.set_xlim(bb_min, bb_max)\n",
    "            else:\n",
    "                position_gs = gs[step].current_node_pos\n",
    "                position_err = evl[step].current_node_pos\n",
    "                title = 'Error: (Prediction - Ground truth)'\n",
    "                ax.plot(position_gs, position_err, 'ko-')\n",
    "                ax.set_xlim(bb_min, bb_max)\n",
    "                ax.set_ylim(-0.25, 0.25)\n",
    "                ax.grid(True, axis = 'y')\n",
    "            \n",
    "            ax.set_title('{} Trajectory {} Step {}'.format(title, traj, step), fontsize = '20')\n",
    "            \n",
    "            count += 1\n",
    "        return fig,\n",
    "\n",
    "    # Save animation for visualization\n",
    "    if not os.path.exists(path):\n",
    "        os.makedirs(path)\n",
    "    \n",
    "    if (save_anim):\n",
    "        gs_anim = animation.FuncAnimation(fig, animate, frames=num_frames, interval=1000)\n",
    "        writergif = animation.PillowWriter(fps=2) \n",
    "        anim_path = os.path.join(path, '{}_anim.gif'.format(name))\n",
    "        gs_anim.save( anim_path, writer=writergif)\n",
    "        plt.show(block=True)\n",
    "    else:\n",
    "        pass\n",
    "\n",
    "def visualize(loader, spc_dataset, best_model, file_dir, args, gif_name, stats_list, skip = 1):\n",
    "\n",
    "    best_model.eval()\n",
    "    device = args.device\n",
    "    viz_data = {}\n",
    "    gs_data = {}\n",
    "    eval_data = {}\n",
    "    viz_data_loader = copy.deepcopy(loader)\n",
    "    gs_data_loader = copy.deepcopy(loader)\n",
    "    eval_data_loader = copy.deepcopy(loader)\n",
    "    [mean_vec_x,std_vec_x,mean_vec_edge,std_vec_edge,mean_vec_force,std_vec_force,mean_vec_y,std_vec_y] = stats_list\n",
    "    (mean_vec_x,std_vec_x,mean_vec_edge,std_vec_edge,mean_vec_force,std_vec_force,mean_vec_y,std_vec_y)=(mean_vec_x.to(device),\n",
    "            std_vec_x.to(device),mean_vec_edge.to(device),std_vec_edge.to(device),mean_vec_force.to(device),std_vec_force.to(device),\n",
    "            mean_vec_y.to(device),std_vec_y.to(device))\n",
    "\n",
    "    eval_data_loader[0].current_node_pos = 0.0*eval_data_loader[0].current_node_pos\n",
    "    ref_node_pos = gs_data_loader[0].current_node_pos\n",
    "\n",
    "    total_sq_error = torch.tensor([0])\n",
    "    n_err = 0\n",
    "\n",
    "    for idx, viz_data in enumerate(viz_data_loader[:-1]):\n",
    "        \n",
    "        gs_data_next = gs_data_loader[idx+1]\n",
    "        viz_data_next = viz_data_loader[idx+1]\n",
    "        eval_data_next = eval_data_loader[idx+1]\n",
    "\n",
    "        viz_data = viz_data.to(args.device)\n",
    "        spc_data = spc_dataset[idx].to(args.device)\n",
    "\n",
    "        update_mask = torch.logical_or((torch.argmax(viz_data.x[:, 1:], dim=1) == torch.tensor(1)),\n",
    "                                        (torch.argmax(viz_data.x[:, 1:], dim=1) == torch.tensor(2)))\n",
    "\n",
    "        with torch.no_grad():\n",
    "            pred = best_model(viz_data,spc_data,mean_vec_x,std_vec_x,mean_vec_edge,std_vec_edge,mean_vec_force,std_vec_force)\n",
    "            # pred gives the learnt normalized displacement increament\n",
    "            eval_disp = unnormalize(pred, mean_vec_y, std_vec_y)\n",
    "\n",
    "            viz_data_next.current_node_pos[update_mask] = viz_data.current_node_pos[update_mask] + eval_disp[update_mask]\n",
    "            pred_disp = viz_data_next.current_node_pos - ref_node_pos\n",
    "            disp = gs_data_next.current_node_pos - ref_node_pos\n",
    "            error_disp = torch.abs(pred_disp - disp)/torch.abs(disp)\n",
    "            eval_data_next.current_node_pos[update_mask] = error_disp[update_mask]\n",
    "            total_sq_error = total_sq_error + torch.sum(eval_data_next.current_node_pos**2)\n",
    "            n_err = n_err + error_disp.shape[0]\n",
    "\n",
    "            uC_i = viz_data_next.current_node_pos[viz_data_next.edge_index[0]]\n",
    "            uC_j = viz_data_next.current_node_pos[viz_data_next.edge_index[1]]\n",
    "            uC_ij = uC_i-uC_j\n",
    "            uC_ij_norm = torch.norm(uC_ij, p=2, dim=1, keepdim=True)\n",
    "\n",
    "            #viz_data_next.edge_attr[:, 2:] = torch.cat((uC_ij, uC_ij_norm), dim=-1)\n",
    "    \n",
    "    total_error = torch.sqrt(total_sq_error/n_err)\n",
    "    print('Total error in prediction: ', total_error)\n",
    "    #print(viz_data_loader)\n",
    "    make_animation(gs_data_loader, viz_data_loader, eval_data_loader, file_dir,\n",
    "                      gif_name, skip, True, False)\n",
    "\n",
    "    return eval_data_loader"
   ]
  },
  {
   "cell_type": "code",
   "execution_count": 116,
   "metadata": {},
   "outputs": [
    {
     "data": {
      "text/plain": [
       "<All keys matched successfully>"
      ]
     },
     "execution_count": 116,
     "metadata": {},
     "output_type": "execute_result"
    }
   ],
   "source": [
    "# load model. \n",
    "args.device = torch.device('cpu') # animation function cannot work with data on GPU\n",
    "num_node_features = spt_dataset[0].x.shape[1]\n",
    "num_edge_features = spt_dataset[0].edge_attr.shape[1]\n",
    "num_sp_node_features = spc_dataset[0].x.shape[1]\n",
    "num_sp_edge_features = spc_dataset[0].edge_attr.shape[1]\n",
    "num_ext_force = spt_dataset[0].del_ext_force.shape[1]\n",
    "num_classes = 1 # the dynamic variables have the shape of 2 (velocity)\n",
    "#model_name = 'model_nl10_bs32_hd16_ep10000_wd0.0005_lr0.001_shuff_True_tr448_te64'\n",
    "model_name='model_spectralGNN_w_X_StressType_nl'+str(args.num_layers)+'_bs'+str(args.batch_size) + \\\n",
    "               '_hd'+str(args.hidden_dim)+'_ep'+str(args.epochs)+'_wd'+str(args.weight_decay) + \\\n",
    "               '_lr'+str(args.lr)+'_shuff_'+str(args.shuffle)+'_tr'+str(args.train_size)+'_te'+str(args.test_size)\n",
    "PATH = os.path.join(args.checkpoint_dir, model_name+'.pt')\n",
    "model = MeshGraphNet(num_node_features, num_edge_features, num_sp_node_features, num_sp_edge_features, \n",
    "                            args.hidden_dim, num_ext_force, num_classes, args).to(device)\n",
    "\n",
    "model.load_state_dict(torch.load(PATH, map_location=args.device))"
   ]
  },
  {
   "cell_type": "code",
   "execution_count": 117,
   "metadata": {},
   "outputs": [
    {
     "data": {
      "text/plain": [
       "[Data(x=[3, 1], edge_index=[2, 6], edge_attr=[6, 1], V=[12, 3], n_nodes=[1, 1]),\n",
       " Data(x=[3, 1], edge_index=[2, 6], edge_attr=[6, 1], V=[12, 3], n_nodes=[1, 1]),\n",
       " Data(x=[3, 1], edge_index=[2, 6], edge_attr=[6, 1], V=[12, 3], n_nodes=[1, 1]),\n",
       " Data(x=[3, 1], edge_index=[2, 6], edge_attr=[6, 1], V=[12, 3], n_nodes=[1, 1]),\n",
       " Data(x=[3, 1], edge_index=[2, 6], edge_attr=[6, 1], V=[12, 3], n_nodes=[1, 1]),\n",
       " Data(x=[3, 1], edge_index=[2, 6], edge_attr=[6, 1], V=[12, 3], n_nodes=[1, 1]),\n",
       " Data(x=[3, 1], edge_index=[2, 6], edge_attr=[6, 1], V=[12, 3], n_nodes=[1, 1]),\n",
       " Data(x=[3, 1], edge_index=[2, 6], edge_attr=[6, 1], V=[12, 3], n_nodes=[1, 1]),\n",
       " Data(x=[3, 1], edge_index=[2, 6], edge_attr=[6, 1], V=[12, 3], n_nodes=[1, 1]),\n",
       " Data(x=[3, 1], edge_index=[2, 6], edge_attr=[6, 1], V=[12, 3], n_nodes=[1, 1]),\n",
       " Data(x=[3, 1], edge_index=[2, 6], edge_attr=[6, 1], V=[12, 3], n_nodes=[1, 1]),\n",
       " Data(x=[3, 1], edge_index=[2, 6], edge_attr=[6, 1], V=[12, 3], n_nodes=[1, 1]),\n",
       " Data(x=[3, 1], edge_index=[2, 6], edge_attr=[6, 1], V=[12, 3], n_nodes=[1, 1]),\n",
       " Data(x=[3, 1], edge_index=[2, 6], edge_attr=[6, 1], V=[12, 3], n_nodes=[1, 1]),\n",
       " Data(x=[3, 1], edge_index=[2, 6], edge_attr=[6, 1], V=[12, 3], n_nodes=[1, 1]),\n",
       " Data(x=[3, 1], edge_index=[2, 6], edge_attr=[6, 1], V=[12, 3], n_nodes=[1, 1]),\n",
       " Data(x=[3, 1], edge_index=[2, 6], edge_attr=[6, 1], V=[12, 3], n_nodes=[1, 1]),\n",
       " Data(x=[3, 1], edge_index=[2, 6], edge_attr=[6, 1], V=[12, 3], n_nodes=[1, 1]),\n",
       " Data(x=[3, 1], edge_index=[2, 6], edge_attr=[6, 1], V=[12, 3], n_nodes=[1, 1]),\n",
       " Data(x=[3, 1], edge_index=[2, 6], edge_attr=[6, 1], V=[12, 3], n_nodes=[1, 1]),\n",
       " Data(x=[3, 1], edge_index=[2, 6], edge_attr=[6, 1], V=[12, 3], n_nodes=[1, 1]),\n",
       " Data(x=[3, 1], edge_index=[2, 6], edge_attr=[6, 1], V=[12, 3], n_nodes=[1, 1]),\n",
       " Data(x=[3, 1], edge_index=[2, 6], edge_attr=[6, 1], V=[12, 3], n_nodes=[1, 1]),\n",
       " Data(x=[3, 1], edge_index=[2, 6], edge_attr=[6, 1], V=[12, 3], n_nodes=[1, 1]),\n",
       " Data(x=[3, 1], edge_index=[2, 6], edge_attr=[6, 1], V=[12, 3], n_nodes=[1, 1]),\n",
       " Data(x=[3, 1], edge_index=[2, 6], edge_attr=[6, 1], V=[12, 3], n_nodes=[1, 1]),\n",
       " Data(x=[3, 1], edge_index=[2, 6], edge_attr=[6, 1], V=[12, 3], n_nodes=[1, 1]),\n",
       " Data(x=[3, 1], edge_index=[2, 6], edge_attr=[6, 1], V=[12, 3], n_nodes=[1, 1]),\n",
       " Data(x=[3, 1], edge_index=[2, 6], edge_attr=[6, 1], V=[12, 3], n_nodes=[1, 1]),\n",
       " Data(x=[3, 1], edge_index=[2, 6], edge_attr=[6, 1], V=[12, 3], n_nodes=[1, 1]),\n",
       " Data(x=[3, 1], edge_index=[2, 6], edge_attr=[6, 1], V=[12, 3], n_nodes=[1, 1]),\n",
       " Data(x=[3, 1], edge_index=[2, 6], edge_attr=[6, 1], V=[12, 3], n_nodes=[1, 1]),\n",
       " Data(x=[3, 1], edge_index=[2, 6], edge_attr=[6, 1], V=[12, 3], n_nodes=[1, 1]),\n",
       " Data(x=[3, 1], edge_index=[2, 6], edge_attr=[6, 1], V=[12, 3], n_nodes=[1, 1]),\n",
       " Data(x=[3, 1], edge_index=[2, 6], edge_attr=[6, 1], V=[12, 3], n_nodes=[1, 1]),\n",
       " Data(x=[3, 1], edge_index=[2, 6], edge_attr=[6, 1], V=[12, 3], n_nodes=[1, 1]),\n",
       " Data(x=[3, 1], edge_index=[2, 6], edge_attr=[6, 1], V=[12, 3], n_nodes=[1, 1]),\n",
       " Data(x=[3, 1], edge_index=[2, 6], edge_attr=[6, 1], V=[12, 3], n_nodes=[1, 1]),\n",
       " Data(x=[3, 1], edge_index=[2, 6], edge_attr=[6, 1], V=[12, 3], n_nodes=[1, 1]),\n",
       " Data(x=[3, 1], edge_index=[2, 6], edge_attr=[6, 1], V=[12, 3], n_nodes=[1, 1]),\n",
       " Data(x=[3, 1], edge_index=[2, 6], edge_attr=[6, 1], V=[12, 3], n_nodes=[1, 1]),\n",
       " Data(x=[3, 1], edge_index=[2, 6], edge_attr=[6, 1], V=[12, 3], n_nodes=[1, 1]),\n",
       " Data(x=[3, 1], edge_index=[2, 6], edge_attr=[6, 1], V=[12, 3], n_nodes=[1, 1]),\n",
       " Data(x=[3, 1], edge_index=[2, 6], edge_attr=[6, 1], V=[12, 3], n_nodes=[1, 1]),\n",
       " Data(x=[3, 1], edge_index=[2, 6], edge_attr=[6, 1], V=[12, 3], n_nodes=[1, 1])]"
      ]
     },
     "execution_count": 117,
     "metadata": {},
     "output_type": "execute_result"
    }
   ],
   "source": [
    "spc_dataset"
   ]
  },
  {
   "cell_type": "code",
   "execution_count": 118,
   "metadata": {},
   "outputs": [
    {
     "name": "stdout",
     "output_type": "stream",
     "text": [
      "Total error in prediction:  tensor([0.0642], dtype=torch.float64)\n",
      "Generating displacement fields...\n",
      "45\n"
     ]
    },
    {
     "data": {
      "image/png": "[encoded data removed]",
      "text/plain": [
       "<Figure size 1440x1152 with 2 Axes>"
      ]
     },
     "metadata": {
      "needs_background": "light"
     },
     "output_type": "display_data"
    }
   ],
   "source": [
    "# visualize predicted displacement\n",
    "dataset_vis = spt_dataset\n",
    "animation_name = model_name+'_current position'\n",
    "args.postprocess_dir = './postprocess_dir/'\n",
    "if not os.path.isdir(args.postprocess_dir):\n",
    "        os.mkdir(args.postprocess_dir)\n",
    "\n",
    "eval_data_loader = visualize(dataset_vis, spc_dataset, model, args.postprocess_dir, args, animation_name, stats_list, skip = 1)"
   ]
  },
  {
   "cell_type": "code",
   "execution_count": null,
   "metadata": {},
   "outputs": [],
   "source": [
    "viz_data_loader = copy.deepcopy(dataset_vis)\n",
    "viz_data_next = viz_data_loader[-1]\n",
    "viz_data_next.current_node_pos[-1] = 100.0"
   ]
  },
  {
   "cell_type": "code",
   "execution_count": null,
   "metadata": {},
   "outputs": [
    {
     "name": "stdout",
     "output_type": "stream",
     "text": [
      "tensor([100.], dtype=torch.float64) tensor([100.], dtype=torch.float64)\n"
     ]
    }
   ],
   "source": [
    "print(viz_data_next.current_node_pos[-1], viz_data_loader[-1].current_node_pos[-1])"
   ]
  },
  {
   "cell_type": "code",
   "execution_count": null,
   "metadata": {},
   "outputs": [],
   "source": []
  }
 ],
 "metadata": {
  "kernelspec": {
   "display_name": "Python 3.9.7 ('base')",
   "language": "python",
   "name": "python3"
  },
  "language_info": {
   "codemirror_mode": {
    "name": "ipython",
    "version": 3
   },
   "file_extension": ".py",
   "mimetype": "text/x-python",
   "name": "python",
   "nbconvert_exporter": "python",
   "pygments_lexer": "ipython3",
   "version": "3.9.7"
  },
  "orig_nbformat": 4,
  "vscode": {
   "interpreter": {
    "hash": "9284ddf247962abbc07c75bfbc6e5605f15430c0c2100b8b0a31b0307dcc7a3a"
   }
  }
 },
 "nbformat": 4,
 "nbformat_minor": 2
}
