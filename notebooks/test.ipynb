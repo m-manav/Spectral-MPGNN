{
 "cells": [
  {
   "cell_type": "code",
   "execution_count": 2,
   "metadata": {},
   "outputs": [],
   "source": [
    "import torch\n",
    "import lightning as L"
   ]
  },
  {
   "cell_type": "code",
   "execution_count": 6,
   "metadata": {},
   "outputs": [
    {
     "name": "stdout",
     "output_type": "stream",
     "text": [
      "5 torch.Size([8, 4]) torch.Size([8, 4])\n"
     ]
    },
    {
     "data": {
      "text/plain": [
       "tensor([[ 5,  6,  3,  4],\n",
       "        [ 7,  7, 10, 12],\n",
       "        [ 5,  7,  6,  4],\n",
       "        [ 7,  7, 10, 12],\n",
       "        [ 0,  1,  3,  0]])"
      ]
     },
     "execution_count": 6,
     "metadata": {},
     "output_type": "execute_result"
    }
   ],
   "source": [
    "edge_index = torch.tensor([[0, 1, 1, 2, 2, 3, 3, 4], [1, 0, 2, 1, 3, 2, 4, 3]])\n",
    "updated_edges = torch.tensor([[5, 6, 3, 4], [1, 5, 2, 8], [6, 2, 8, 4], [0, 1, 3, 0], [5, 6, 3, 4], [1, 5, 2, 8], [6, 2, 8, 4], [0, 1, 3, 0]])\n",
    "\n",
    "num_nodes = torch.max(edge_index[0, :]).item()+1\n",
    "index = edge_index[0, :].unsqueeze(0)\n",
    "index = torch.permute(index, (1, 0))\n",
    "index = torch.broadcast_to(index, updated_edges.shape)\n",
    "print(num_nodes, index.shape, updated_edges.shape)\n",
    "\n",
    "out = torch.zeros(\n",
    "    (num_nodes, 4),\n",
    "    dtype=updated_edges.dtype,\n",
    "    device=updated_edges.device,\n",
    ")\n",
    "out.scatter_reduce_(0, index, updated_edges, reduce=\"sum\", include_self=False)\n",
    "out"
   ]
  },
  {
   "cell_type": "code",
   "execution_count": null,
   "metadata": {},
   "outputs": [],
   "source": []
  }
 ],
 "metadata": {
  "kernelspec": {
   "display_name": ".venv",
   "language": "python",
   "name": "python3"
  },
  "language_info": {
   "codemirror_mode": {
    "name": "ipython",
    "version": 3
   },
   "file_extension": ".py",
   "mimetype": "text/x-python",
   "name": "python",
   "nbconvert_exporter": "python",
   "pygments_lexer": "ipython3",
   "version": "3.12.9"
  }
 },
 "nbformat": 4,
 "nbformat_minor": 2
}
